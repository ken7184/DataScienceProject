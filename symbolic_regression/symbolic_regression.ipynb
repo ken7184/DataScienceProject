{
 "cells": [
  {
   "cell_type": "code",
   "execution_count": 2,
   "id": "e858fd16",
   "metadata": {},
   "outputs": [],
   "source": [
    "import numpy as np\n",
    "import pandas as pd\n",
    "import matplotlib.pyplot as plt\n",
    "from pysr import PySRRegressor\n",
    "from gplearn.genetic import SymbolicRegressor\n",
    "import sklearn\n",
    "from sklearn.ensemble import RandomForestRegressor\n",
    "from sklearn.tree import DecisionTreeRegressor\n",
    "from sympy import *\n",
    "from sklearn.utils.random import check_random_state\n",
    "import graphviz\n",
    "import time"
   ]
  },
  {
   "cell_type": "markdown",
   "id": "2a47dd93",
   "metadata": {},
   "source": [
    "# Covid India"
   ]
  },
  {
   "cell_type": "code",
   "execution_count": 3,
   "id": "8dd8b241",
   "metadata": {},
   "outputs": [],
   "source": [
    "covid_india = pd.read_csv(\"case_time_series.csv\")"
   ]
  },
  {
   "cell_type": "code",
   "execution_count": 7,
   "id": "9d7ed970",
   "metadata": {},
   "outputs": [
    {
     "data": {
      "text/html": [
       "<div>\n",
       "<style scoped>\n",
       "    .dataframe tbody tr th:only-of-type {\n",
       "        vertical-align: middle;\n",
       "    }\n",
       "\n",
       "    .dataframe tbody tr th {\n",
       "        vertical-align: top;\n",
       "    }\n",
       "\n",
       "    .dataframe thead th {\n",
       "        text-align: right;\n",
       "    }\n",
       "</style>\n",
       "<table border=\"1\" class=\"dataframe\">\n",
       "  <thead>\n",
       "    <tr style=\"text-align: right;\">\n",
       "      <th></th>\n",
       "      <th>Date</th>\n",
       "      <th>Daily Confirmed</th>\n",
       "      <th>Total Confirmed</th>\n",
       "      <th>Daily Recovered</th>\n",
       "      <th>Total Recovered</th>\n",
       "      <th>Daily Deceased</th>\n",
       "      <th>Total Deceased</th>\n",
       "    </tr>\n",
       "  </thead>\n",
       "  <tbody>\n",
       "    <tr>\n",
       "      <th>0</th>\n",
       "      <td>30-Jan</td>\n",
       "      <td>1</td>\n",
       "      <td>1</td>\n",
       "      <td>0</td>\n",
       "      <td>0</td>\n",
       "      <td>0</td>\n",
       "      <td>0</td>\n",
       "    </tr>\n",
       "    <tr>\n",
       "      <th>1</th>\n",
       "      <td>31-Jan</td>\n",
       "      <td>0</td>\n",
       "      <td>1</td>\n",
       "      <td>0</td>\n",
       "      <td>0</td>\n",
       "      <td>0</td>\n",
       "      <td>0</td>\n",
       "    </tr>\n",
       "    <tr>\n",
       "      <th>2</th>\n",
       "      <td>01-Feb</td>\n",
       "      <td>0</td>\n",
       "      <td>1</td>\n",
       "      <td>0</td>\n",
       "      <td>0</td>\n",
       "      <td>0</td>\n",
       "      <td>0</td>\n",
       "    </tr>\n",
       "    <tr>\n",
       "      <th>3</th>\n",
       "      <td>02-Feb</td>\n",
       "      <td>1</td>\n",
       "      <td>2</td>\n",
       "      <td>0</td>\n",
       "      <td>0</td>\n",
       "      <td>0</td>\n",
       "      <td>0</td>\n",
       "    </tr>\n",
       "    <tr>\n",
       "      <th>4</th>\n",
       "      <td>03-Feb</td>\n",
       "      <td>1</td>\n",
       "      <td>3</td>\n",
       "      <td>0</td>\n",
       "      <td>0</td>\n",
       "      <td>0</td>\n",
       "      <td>0</td>\n",
       "    </tr>\n",
       "  </tbody>\n",
       "</table>\n",
       "</div>"
      ],
      "text/plain": [
       "     Date  Daily Confirmed  Total Confirmed  Daily Recovered  Total Recovered  \\\n",
       "0  30-Jan                1                1                0                0   \n",
       "1  31-Jan                0                1                0                0   \n",
       "2  01-Feb                0                1                0                0   \n",
       "3  02-Feb                1                2                0                0   \n",
       "4  03-Feb                1                3                0                0   \n",
       "\n",
       "   Daily Deceased  Total Deceased  \n",
       "0               0               0  \n",
       "1               0               0  \n",
       "2               0               0  \n",
       "3               0               0  \n",
       "4               0               0  "
      ]
     },
     "execution_count": 7,
     "metadata": {},
     "output_type": "execute_result"
    }
   ],
   "source": [
    "covid_india.head()"
   ]
  },
  {
   "cell_type": "code",
   "execution_count": 13,
   "id": "e3dd4594",
   "metadata": {},
   "outputs": [
    {
     "data": {
      "text/plain": [
       "(93, 7)"
      ]
     },
     "execution_count": 13,
     "metadata": {},
     "output_type": "execute_result"
    }
   ],
   "source": [
    "covid_india.shape"
   ]
  },
  {
   "cell_type": "code",
   "execution_count": 12,
   "id": "6300adf0",
   "metadata": {},
   "outputs": [
    {
     "data": {
      "text/plain": [
       "Date               object\n",
       "Daily Confirmed     int64\n",
       "Total Confirmed     int64\n",
       "Daily Recovered     int64\n",
       "Total Recovered     int64\n",
       "Daily Deceased      int64\n",
       "Total Deceased      int64\n",
       "dtype: object"
      ]
     },
     "execution_count": 12,
     "metadata": {},
     "output_type": "execute_result"
    }
   ],
   "source": [
    "covid_india.dtypes"
   ]
  },
  {
   "cell_type": "code",
   "execution_count": 4,
   "id": "127ee676",
   "metadata": {},
   "outputs": [
    {
     "data": {
      "text/plain": [
       "<AxesSubplot:>"
      ]
     },
     "execution_count": 4,
     "metadata": {},
     "output_type": "execute_result"
    },
    {
     "data": {
      "image/png": "[encoded data removed]",
      "text/plain": [
       "<Figure size 432x288 with 1 Axes>"
      ]
     },
     "metadata": {
      "needs_background": "light"
     },
     "output_type": "display_data"
    }
   ],
   "source": [
    "covid_india.plot()"
   ]
  },
  {
   "cell_type": "code",
   "execution_count": null,
   "id": "2df0a055",
   "metadata": {},
   "outputs": [],
   "source": [
    "df = covid_india[[\"Date\", \"Total Deceased\"]]"
   ]
  },
  {
   "cell_type": "code",
   "execution_count": null,
   "id": "3dbe5043",
   "metadata": {},
   "outputs": [],
   "source": [
    "Date_range = pd.date_range(start='1/30/2020', end='05/01/2020', freq='D')"
   ]
  },
  {
   "cell_type": "code",
   "execution_count": null,
   "id": "ed2c0eb4",
   "metadata": {},
   "outputs": [],
   "source": [
    "df[\"Date\"] = Date_range"
   ]
  },
  {
   "cell_type": "code",
   "execution_count": null,
   "id": "bef5c643",
   "metadata": {},
   "outputs": [],
   "source": [
    "plt.plot(df[\"Date\"], df[\"Total Deceased\"])"
   ]
  },
  {
   "cell_type": "code",
   "execution_count": null,
   "id": "1c12d505",
   "metadata": {},
   "outputs": [],
   "source": [
    "df = df.reset_index(level=0)"
   ]
  },
  {
   "cell_type": "code",
   "execution_count": null,
   "id": "f009495c",
   "metadata": {},
   "outputs": [],
   "source": [
    "X = df[['index']]\n",
    "y = df['Total Deceased']\n",
    "y_true = y\n",
    "X_train, X_test, y_train, y_test = sklearn.model_selection.train_test_split(X, y, test_size=0.30, random_state=42)\n",
    "X_train.shape, X_test.shape, y_train.shape, y_test.shape\n",
    "function_set = ['add', 'sub', 'mul', 'div', 'sqrt', 'abs',\n",
    "                'log', 'inv','sin', 'cos']\n",
    "est_gp = SymbolicRegressor(population_size=5000, function_set = function_set,\n",
    "                           generations=20, stopping_criteria=0.01,\n",
    "                           p_crossover=0.7, p_subtree_mutation=0.1,\n",
    "                           p_hoist_mutation=0.05, p_point_mutation=0.1,\n",
    "                           max_samples=0.9, verbose=1,\n",
    "                           parsimony_coefficient=0.1, random_state=0)\n",
    "est_gp.fit(X_train, y_train)"
   ]
  },
  {
   "cell_type": "code",
   "execution_count": null,
   "id": "3e208e0a",
   "metadata": {},
   "outputs": [],
   "source": [
    "score_gp1 = est_gp.score(X_test, y_test)\n",
    "print('R2:', score_gp1)"
   ]
  },
  {
   "cell_type": "code",
   "execution_count": null,
   "id": "85a6c584",
   "metadata": {},
   "outputs": [],
   "source": [
    "converter = {\n",
    "    'add': lambda x, y : x + y,\n",
    "    'sub': lambda x, y : x - y,\n",
    "    'mul': lambda x, y : x*y,\n",
    "    'div': lambda x, y : x/y,\n",
    "    'sqrt': lambda x : x**0.5,\n",
    "    'log': lambda x : log(x),\n",
    "    'abs': lambda x : abs(x),\n",
    "    'neg': lambda x : -x,\n",
    "    'inv': lambda x : 1/x,\n",
    "    'max': lambda x, y : max(x, y),\n",
    "    'min': lambda x, y : min(x, y),\n",
    "    'sin': lambda x : sin(x),\n",
    "    'cos': lambda x : cos(x),\n",
    "    'pow': lambda x, y : x**y,\n",
    "}\n",
    "next_e = sympify(str(est_gp._program), locals=converter)\n",
    "next_e"
   ]
  },
  {
   "cell_type": "code",
   "execution_count": null,
   "id": "058f114b",
   "metadata": {},
   "outputs": [],
   "source": [
    "y_gp1 = est_gp.predict(X_test)\n",
    "fig = plt.figure(constrained_layout=False, dpi=100)\n",
    "gs = fig.add_gridspec(nrows=7, ncols=1)\n",
    "f_ax1 = fig.add_subplot(gs[0:5,0])\n",
    "plt.title('Covid india death')\n",
    "plt.scatter(X_test, y_test, label = 'True function')\n",
    "plt.scatter(X_test, y_gp1, marker = 'v', s = 10, label = 'Symbolic function')\n",
    "plt.legend()\n",
    "plt.ylabel('Number of death')\n",
    "f_ax2 = fig.add_subplot(gs[5:7, 0])\n",
    "plt.scatter(X_test, 1. - y_gp1/y_test, marker = 's', s = 10)\n",
    "plt.ylabel('Residual')\n",
    "plt.xlabel('n')\n",
    "y_gp = est_gp.predict(X_test)\n",
    "score_gp1 = est_gp.score(X_test, y_test)\n",
    "score_gp1"
   ]
  },
  {
   "cell_type": "markdown",
   "id": "a6132481",
   "metadata": {},
   "source": [
    "# Monkey Pox"
   ]
  },
  {
   "cell_type": "code",
   "execution_count": 17,
   "id": "2f4c95a3",
   "metadata": {},
   "outputs": [],
   "source": [
    "mp = pd.read_csv(\"Daily_Country_Wise_Confirmed_Cases.csv\")"
   ]
  },
  {
   "cell_type": "code",
   "execution_count": 19,
   "id": "c0354331",
   "metadata": {},
   "outputs": [
    {
     "data": {
      "text/plain": [
       "Country       object\n",
       "2022-01-31     int64\n",
       "2022-02-17     int64\n",
       "2022-02-28     int64\n",
       "2022-03-04     int64\n",
       "               ...  \n",
       "2022-09-18     int64\n",
       "2022-09-19     int64\n",
       "2022-09-20     int64\n",
       "2022-09-21     int64\n",
       "2022-09-22     int64\n",
       "Length: 142, dtype: object"
      ]
     },
     "execution_count": 19,
     "metadata": {},
     "output_type": "execute_result"
    }
   ],
   "source": [
    "mp.dtypes"
   ]
  },
  {
   "cell_type": "code",
   "execution_count": 20,
   "id": "5c4562d3",
   "metadata": {},
   "outputs": [],
   "source": [
    "d = {'col1': mp.sum()[1:142]}\n",
    "df1 = pd.DataFrame(data=d)\n",
    "df1 = df1.reset_index(level=0)"
   ]
  },
  {
   "cell_type": "code",
   "execution_count": 21,
   "id": "3f8cd116",
   "metadata": {},
   "outputs": [
    {
     "data": {
      "text/plain": [
       "index    object\n",
       "col1     object\n",
       "dtype: object"
      ]
     },
     "execution_count": 21,
     "metadata": {},
     "output_type": "execute_result"
    }
   ],
   "source": [
    "df1.dtypes"
   ]
  },
  {
   "cell_type": "code",
   "execution_count": null,
   "id": "b898f3f3",
   "metadata": {},
   "outputs": [],
   "source": [
    "df1 = df1.rename(columns={'index': 'Date', 'col1': 'Total_confirmed'})\n",
    "plt.plot(df1[\"Date\"], df1[\"Total_confirmed\"])"
   ]
  },
  {
   "cell_type": "code",
   "execution_count": null,
   "id": "d05e87e8",
   "metadata": {},
   "outputs": [],
   "source": [
    "df1 = df1.reset_index(level=0)\n",
    "X1 = df1[['index']]\n",
    "y1 = df1['Total_confirmed']\n",
    "y_true1 = y1\n",
    "X_train1, X_test1, y_train1, y_test1 = sklearn.model_selection.train_test_split(X1, y1, test_size=0.30, random_state=42)\n",
    "X_train1.shape, X_test1.shape, y_train1.shape, y_test1.shape\n",
    "function_set = ['add', 'sub', 'mul', 'div', 'sqrt', 'abs',\n",
    "                'log', 'inv','sin', 'cos']\n",
    "est_gp1 = SymbolicRegressor(population_size=5000, function_set = function_set,\n",
    "                           generations=20, stopping_criteria=0.01,\n",
    "                           p_crossover=0.7, p_subtree_mutation=0.1,\n",
    "                           p_hoist_mutation=0.05, p_point_mutation=0.1,\n",
    "                           max_samples=0.9, verbose=1,\n",
    "                           parsimony_coefficient=0.1, random_state=0)\n",
    "est_gp1.fit(X_train1, y_train1)"
   ]
  },
  {
   "cell_type": "code",
   "execution_count": null,
   "id": "56bd20b3",
   "metadata": {},
   "outputs": [],
   "source": [
    "score_gp2 = est_gp1.score(X_test1, y_test1)\n",
    "print('R2:', score_gp2)\n",
    "next_e1 = sympify(str(est_gp1._program), locals=converter)\n",
    "next_e1\n",
    "y_gp2 = est_gp1.predict(X_test1)"
   ]
  },
  {
   "cell_type": "code",
   "execution_count": null,
   "id": "6d6707da",
   "metadata": {},
   "outputs": [],
   "source": [
    "fig = plt.figure(constrained_layout=False, dpi=100)\n",
    "gs = fig.add_gridspec(nrows=7, ncols=1)\n",
    "f_ax1 = fig.add_subplot(gs[0:5,0])\n",
    "plt.title('Monkey pox confirmed')\n",
    "plt.scatter(X_test1, y_test1, label = 'True function')\n",
    "plt.scatter(X_test1, y_gp2, marker = 'v', s = 10, label = 'Symbolic function')\n",
    "plt.legend()\n",
    "plt.ylabel('Confirmed case')\n",
    "f_ax2 = fig.add_subplot(gs[5:7, 0])\n",
    "plt.scatter(X_test1, 1. - y_gp2/y_test1, marker = 's', s = 10)\n",
    "plt.ylabel('Residual')\n",
    "plt.xlabel('n')"
   ]
  },
  {
   "cell_type": "markdown",
   "id": "32598046",
   "metadata": {},
   "source": [
    "# US Covid"
   ]
  },
  {
   "cell_type": "code",
   "execution_count": 22,
   "id": "03755b2c",
   "metadata": {},
   "outputs": [],
   "source": [
    "us = pd.read_csv(\"us-counties.csv\")"
   ]
  },
  {
   "cell_type": "code",
   "execution_count": null,
   "id": "e2e65d8b",
   "metadata": {},
   "outputs": [],
   "source": [
    "df2 = us[[\"date\", \"deaths\"]]"
   ]
  },
  {
   "cell_type": "code",
   "execution_count": 23,
   "id": "9ad8cc0e",
   "metadata": {},
   "outputs": [
    {
     "data": {
      "text/plain": [
       "date       object\n",
       "county     object\n",
       "state      object\n",
       "fips      float64\n",
       "cases       int64\n",
       "deaths    float64\n",
       "dtype: object"
      ]
     },
     "execution_count": 23,
     "metadata": {},
     "output_type": "execute_result"
    }
   ],
   "source": [
    "us.dtypes"
   ]
  },
  {
   "cell_type": "code",
   "execution_count": null,
   "id": "1ccd836d",
   "metadata": {},
   "outputs": [],
   "source": [
    "df3 = df2.groupby(\"date\").sum()"
   ]
  },
  {
   "cell_type": "code",
   "execution_count": null,
   "id": "a1cbdcfe",
   "metadata": {},
   "outputs": [],
   "source": [
    "df3 = df3.reset_index(level = 0)"
   ]
  },
  {
   "cell_type": "code",
   "execution_count": null,
   "id": "f016e784",
   "metadata": {},
   "outputs": [],
   "source": [
    "plt.plot(df3[\"date\"], df3[\"deaths\"])"
   ]
  },
  {
   "cell_type": "code",
   "execution_count": null,
   "id": "312b1d01",
   "metadata": {},
   "outputs": [],
   "source": [
    "df3 = df3.reset_index(level = 0)\n",
    "df3"
   ]
  },
  {
   "cell_type": "code",
   "execution_count": null,
   "id": "c632c5ac",
   "metadata": {},
   "outputs": [],
   "source": [
    "X2 = df3[['index']]\n",
    "y2 = df3['deaths']\n",
    "y_true2 = y2\n",
    "X_train2, X_test2, y_train2, y_test2 = sklearn.model_selection.train_test_split(X2, y2, test_size=0.30, random_state=42)\n",
    "X_train2.shape, X_test2.shape, y_train2.shape, y_test2.shape"
   ]
  },
  {
   "cell_type": "code",
   "execution_count": null,
   "id": "12e49523",
   "metadata": {},
   "outputs": [],
   "source": [
    "function_set = ['add', 'sub', 'mul', 'div', 'sqrt', 'abs','sin', 'cos']\n",
    "est_gp2 = SymbolicRegressor(population_size=5000, function_set = function_set,\n",
    "                           generations=20, stopping_criteria=0.01,\n",
    "                           p_crossover=0.7, p_subtree_mutation=0.1,\n",
    "                           p_hoist_mutation=0.05, p_point_mutation=0.1,\n",
    "                           max_samples=0.9, verbose=1,\n",
    "                           parsimony_coefficient=0.1, random_state=0)\n",
    "est_gp2.fit(X_train2, y_train2)"
   ]
  },
  {
   "cell_type": "code",
   "execution_count": null,
   "id": "bbc3a0c6",
   "metadata": {},
   "outputs": [],
   "source": [
    "score_gp3 = est_gp2.score(X_test2, y_test2)\n",
    "print('R2:', score_gp3)"
   ]
  },
  {
   "cell_type": "code",
   "execution_count": null,
   "id": "8bbd5c42",
   "metadata": {},
   "outputs": [],
   "source": [
    "next_e2 = sympify(str(est_gp2._program), locals=converter)\n",
    "next_e2"
   ]
  },
  {
   "cell_type": "code",
   "execution_count": null,
   "id": "76718635",
   "metadata": {},
   "outputs": [],
   "source": [
    "y_gp3 = est_gp2.predict(X_test2)"
   ]
  },
  {
   "cell_type": "code",
   "execution_count": null,
   "id": "fae8b9e4",
   "metadata": {},
   "outputs": [],
   "source": [
    "fig = plt.figure(constrained_layout=False, dpi=100)\n",
    "gs = fig.add_gridspec(nrows=7, ncols=1)\n",
    "f_ax1 = fig.add_subplot(gs[0:5,0])\n",
    "plt.title('US counties Covid')\n",
    "plt.scatter(X_test2, y_test2, label = 'True function')\n",
    "plt.scatter(X_test2, y_gp3, marker = 'v', s = 10, label = 'Symbolic function')\n",
    "plt.legend()\n",
    "plt.ylabel('Number of Deaths')\n",
    "f_ax2 = fig.add_subplot(gs[5:7, 0])\n",
    "plt.scatter(X_test2, 1. - y_gp3/y_test2, marker = 's', s = 10)\n",
    "plt.ylabel('Residual')\n",
    "plt.xlabel('n')"
   ]
  },
  {
   "cell_type": "code",
   "execution_count": null,
   "id": "decef9f2",
   "metadata": {},
   "outputs": [],
   "source": []
  },
  {
   "cell_type": "markdown",
   "id": "985d4a74",
   "metadata": {},
   "source": [
    "# EEG dataset"
   ]
  },
  {
   "cell_type": "code",
   "execution_count": 14,
   "id": "83105bea",
   "metadata": {},
   "outputs": [
    {
     "data": {
      "text/plain": [
       "[<matplotlib.lines.Line2D at 0x7faac0832e20>]"
      ]
     },
     "execution_count": 14,
     "metadata": {},
     "output_type": "execute_result"
    },
    {
     "data": {
      "image/png": "[encoded data removed]",
      "text/plain": [
       "<Figure size 432x288 with 1 Axes>"
      ]
     },
     "metadata": {
      "needs_background": "light"
     },
     "output_type": "display_data"
    }
   ],
   "source": [
    "df = pd.read_csv(\"eeg.csv\")\n",
    "df = df.iloc[771:1026, ]\n",
    "df = df.reset_index(level = 0)\n",
    "df = df.reset_index(level = 0)\n",
    "plt.plot(df[\"level_0\"], df[\"-0.061\"])"
   ]
  },
  {
   "cell_type": "code",
   "execution_count": 36,
   "id": "9e08eed9",
   "metadata": {},
   "outputs": [
    {
     "data": {
      "text/plain": [
       "(255, 6)"
      ]
     },
     "execution_count": 36,
     "metadata": {},
     "output_type": "execute_result"
    }
   ],
   "source": [
    "df.shape"
   ]
  },
  {
   "cell_type": "code",
   "execution_count": 16,
   "id": "fe4158f2",
   "metadata": {},
   "outputs": [
    {
     "data": {
      "text/plain": [
       "level_0      int64\n",
       "index        int64\n",
       "89          object\n",
       "FP1         object\n",
       "0           object\n",
       "-0.061     float64\n",
       "dtype: object"
      ]
     },
     "execution_count": 16,
     "metadata": {},
     "output_type": "execute_result"
    }
   ],
   "source": [
    "df.dtypes"
   ]
  },
  {
   "cell_type": "code",
   "execution_count": 37,
   "id": "58ba869f",
   "metadata": {},
   "outputs": [
    {
     "name": "stderr",
     "output_type": "stream",
     "text": [
      "/Users/kimhyunkyunkim/opt/anaconda3/lib/python3.9/site-packages/seaborn/_decorators.py:36: FutureWarning: Pass the following variable as a keyword arg: x. From version 0.12, the only valid positional argument will be `data`, and passing other arguments without an explicit keyword will result in an error or misinterpretation.\n",
      "  warnings.warn(\n"
     ]
    },
    {
     "data": {
      "text/plain": [
       "<AxesSubplot:xlabel='-0.061'>"
      ]
     },
     "execution_count": 37,
     "metadata": {},
     "output_type": "execute_result"
    },
    {
     "data": {
      "image/png": "[encoded data removed]",
      "text/plain": [
       "<Figure size 432x288 with 1 Axes>"
      ]
     },
     "metadata": {
      "needs_background": "light"
     },
     "output_type": "display_data"
    }
   ],
   "source": [
    "import seaborn as sns\n",
    "sns.boxplot(df[\"-0.061\"])"
   ]
  },
  {
   "cell_type": "code",
   "execution_count": 38,
   "id": "67438cf7",
   "metadata": {},
   "outputs": [],
   "source": [
    "Q1 = np.percentile(df[\"-0.061\"], 25)\n",
    "Q3 = np.percentile(df[\"-0.061\"], 75)\n",
    "IQR = Q3 - Q1\n",
    "lower = Q1 - 1.5*IQR\n",
    "upper = Q3 + 1.5*IQR\n",
    " \n",
    "\n",
    "upper_array = np.where(df[\"-0.061\"]>=upper)[0]\n",
    "lower_array = np.where(df[\"-0.061\"]<=lower)[0]\n",
    " \n",
    "df.drop(index=upper_array, inplace=True)\n",
    "df.drop(index=lower_array, inplace=True)\n"
   ]
  },
  {
   "cell_type": "code",
   "execution_count": 39,
   "id": "67f41bd7",
   "metadata": {},
   "outputs": [
    {
     "data": {
      "text/plain": [
       "(249, 6)"
      ]
     },
     "execution_count": 39,
     "metadata": {},
     "output_type": "execute_result"
    }
   ],
   "source": [
    "df.shape"
   ]
  },
  {
   "cell_type": "code",
   "execution_count": 45,
   "id": "4643fa82",
   "metadata": {},
   "outputs": [
    {
     "data": {
      "text/plain": [
       "[<matplotlib.lines.Line2D at 0x7f8d318d18e0>]"
      ]
     },
     "execution_count": 45,
     "metadata": {},
     "output_type": "execute_result"
    },
    {
     "data": {
      "image/png": "[encoded data removed]",
      "text/plain": [
       "<Figure size 432x288 with 1 Axes>"
      ]
     },
     "metadata": {
      "needs_background": "light"
     },
     "output_type": "display_data"
    }
   ],
   "source": [
    "plt.title('EEG data')\n",
    "plt.plot(df[\"level_0\"], df[\"-0.061\"])"
   ]
  },
  {
   "cell_type": "code",
   "execution_count": 43,
   "id": "55968475",
   "metadata": {},
   "outputs": [
    {
     "name": "stdout",
     "output_type": "stream",
     "text": [
      "    |   Population Average    |             Best Individual              |\n",
      "---- ------------------------- ------------------------------------------ ----------\n",
      " Gen   Length          Fitness   Length          Fitness      OOB Fitness  Time Left\n",
      "   0    18.73      6.65294e+06        6          7.72433           7.1667      4.89m\n",
      "   1    16.50      1.18899e+06       64          7.33221          7.72526      4.51m\n",
      "   2    22.51          13334.3       22          6.89847          8.54848      4.90m\n",
      "   3    19.18      7.72895e+06       22          6.86713          8.82008      4.79m\n",
      "   4     8.90          153.421       46          6.66343          5.09449      4.18m\n",
      "   5     9.25          613.168       39          6.22116           8.8941      4.00m\n",
      "   6    16.00          4647.32       45          6.19869          5.21641      4.37m\n",
      "   7    26.60          22463.5       48          5.76448          8.20391      4.99m\n",
      "   8    35.13          104.951       60          5.62949          6.46493      5.62m\n",
      "   9    42.36          30300.5       51          5.28503           6.2597      5.87m\n",
      "  10    43.91           118.55       45          5.36177             7.23      5.87m\n",
      "  11    42.16          786.944       52          5.25574          6.62664      5.65m\n",
      "  12    41.83          549.048       50          4.92886          9.12485      5.67m\n",
      "  13    41.20          403.199       68           5.0216          6.98575      5.41m\n",
      "  14    41.13          1225.96       49          4.92457          4.96937      5.36m\n",
      "  15    40.44          373.056       48          4.82617          5.86951      5.24m\n",
      "  16    40.42          231.012       55          4.72782           6.0463      5.36m\n",
      "  17    42.00          302.874       65          4.57973          6.39969      5.24m\n",
      "  18    44.38          45480.3       54          4.62138          5.71044      5.37m\n",
      "  19    46.09           3209.2       60          4.64025          5.68987      5.44m\n",
      "  20    46.66          134.839       61          4.49818          6.43484      5.45m\n",
      "  21    48.46          119.086       49          4.45631          4.54823      5.64m\n",
      "  22    49.60          6871.02       53          4.38857          4.13674      5.51m\n",
      "  23    49.31          203.796       53          4.26042          5.24739      5.37m\n",
      "  24    49.65          118.989       53          4.20519          5.72603      5.36m\n",
      "  25    49.73          249.255       53          4.19503           5.8141      5.39m\n",
      "  26    50.35           69.094       53           4.2218          5.58204      5.17m\n",
      "  27    50.54          437.167       57          4.11572          5.02348      5.09m\n",
      "  28    50.31          192.209       57          4.07359          5.38864      5.00m\n",
      "  29    50.42          168.337       48          4.07753           7.5403      5.08m\n",
      "  30    50.80          1808.25       57          4.11188          5.05675      4.94m\n",
      "  31    51.46          317.949       58          3.99609          6.07337      4.85m\n",
      "  32    51.76          818.095       57          3.99139            6.101      4.80m\n",
      "  33    52.27          13101.1       57          4.01845          5.86651      4.90m\n",
      "  34    53.33          73.3339       57          3.99835           6.0407      4.75m\n",
      "  35    54.14          194.236       64          3.91675          5.68682      4.73m\n",
      "  36    54.94          81.3274       64          3.96259          5.28954      4.71m\n",
      "  37    56.04          16775.2       61          3.99543          5.10102      4.88m\n",
      "  38    56.61          262.467       69          3.80117          5.38132      4.71m\n",
      "  39    57.05          138.487       69          3.77063          5.64599      4.63m\n",
      "  40    58.25          549.834       69          3.76912          5.65905      4.61m\n",
      "  41    58.95          34665.5       70          3.76915          5.66765      4.55m\n",
      "  42    60.33          423.785       69          3.69765           6.2785      4.64m\n",
      "  43    62.26          131.521       69          3.75698          5.76434      4.51m\n",
      "  44    64.31          198.174       69           3.7462          5.85774      4.52m\n",
      "  45    65.77          214.278       69          3.66521          6.55962      4.48m\n",
      "  46    66.59          42.3678       70          3.70481          6.21785      4.56m\n",
      "  47    66.80           164428       69          3.73731          5.93478      4.37m\n",
      "  48    67.62          334.842       69          3.73219          5.97913      4.32m\n",
      "  49    67.48          32.5162       78          3.68864          4.60283      4.25m\n",
      "  50    68.01          95.6491       85          3.60472          5.44482      4.28m\n",
      "  51    68.45           137.26       85          3.71106          4.52324      4.09m\n",
      "  52    69.21          123.559       87          3.53435          4.40262      4.03m\n",
      "  53    70.00          224.156       87          3.57138          4.08177      3.96m\n",
      "  54    70.42          64677.5       87          3.46716          4.98494      4.02m\n",
      "  55    72.11          37821.2       87          3.48601          4.82164      3.86m\n",
      "  56    73.92          673.164       87          3.42557          5.34539      3.81m\n",
      "  57    75.59          117.864       87          3.44568          5.17111      3.78m\n",
      "  58    77.32            13042       87          3.42748          5.32887      3.73m\n",
      "  59    78.77          29.5115       87          3.34117           6.0769      3.78m\n",
      "  60    80.11          23044.8       87           3.3223          6.24041      3.64m\n",
      "  61    81.41          3241.16       87          3.41266          5.45735      3.61m\n",
      "  62    81.98          16399.9       87          3.38849          5.66675      3.54m\n",
      "  63    82.49          72.7406       88          3.36668          4.93526      3.53m\n",
      "  64    82.62          106.497       87          3.39034           5.6507      3.35m\n",
      "  65    81.88          1196.77       87          3.34505          6.04329      3.25m\n",
      "  66    81.60          416.578       81          3.32918          6.36598      3.16m\n",
      "  67    82.09          586.338       87          3.36002           4.8968      3.07m\n",
      "  68    81.08          134.401       79          3.36454          5.80312      3.05m\n",
      "  69    81.50          2948.94       87          3.35978          4.89891      2.89m\n",
      "  70    81.49          28.0741       81          3.32612          5.75306      2.79m\n",
      "  71    80.76          985.288       88          3.32543          5.29276      2.69m\n",
      "  72    80.96           714073       81          3.34849          5.55917      2.70m\n",
      "  73    81.29          84.4714       88          3.27416          5.73711      2.52m\n",
      "  74    81.30          66.1952       87          3.30424          5.38028      2.42m\n",
      "  75    81.08          92.7555       87          3.34229          5.05045      2.33m\n",
      "  76    80.76          154.527       87          3.24555          5.88887      2.23m\n",
      "  77    81.88          46.0085       94          3.28556           5.0291      2.21m\n",
      "  78    81.19          71.7755       88          3.28267          5.17935      2.03m\n",
      "  79    81.18          2203.95       78          3.31313          5.88792      1.96m\n",
      "  80    81.34          248.083       94          3.33829           4.6077      1.87m\n",
      "  81    80.99          767.002       94          3.26924          5.20615      1.79m\n",
      "  82    80.53          354.283       88           3.2611          5.18267      1.65m\n",
      "  83    80.39           8515.5       88          3.29129          5.10459      1.54m\n",
      "  84    80.73          121.268       87          3.23969          5.93968      1.44m\n",
      "  85    80.25          168.979       78          3.31604          5.86269      1.34m\n",
      "  86    80.19          46.1056       89          3.25616          5.41563      1.28m\n",
      "  87    80.62          46.9948       89          3.27688          5.50993      1.15m\n",
      "  88    79.63          130.603       93          3.25477          5.33151      1.05m\n",
      "  89    79.85          263.914       79          3.28917          5.78178     57.31s\n",
      "  90    79.86          36.8848       80          3.25982          5.97547     51.60s\n",
      "  91    79.30          144.496       88           3.3274          4.60808     46.96s\n",
      "  92    79.56          112.315       86          3.28024          5.05141     40.19s\n",
      "  93    78.74      2.46304e+06       89          3.30106          4.67623     34.40s\n"
     ]
    },
    {
     "name": "stdout",
     "output_type": "stream",
     "text": [
      "  94    79.47          205.455       87          3.21979          6.11216     28.64s\n",
      "  95    79.08          65.5541       88          3.25228          4.99252     23.52s\n",
      "  96    79.55          899.316       86          3.22328          5.23085     17.15s\n",
      "  97    79.46          919.508       96          3.28355          4.20069     11.45s\n",
      "  98    79.70          306.279       79          3.26428          5.99753      5.74s\n",
      "  99    79.85          156.403       79          3.19695          5.87234      0.00s\n",
      "R2: 0.5357539096292028\n"
     ]
    },
    {
     "data": {
      "text/latex": [
       "$\\displaystyle \\left(- \\cos{\\left(X_{0}^{0.25} + 0.573686821548013 \\right)} + \\cos{\\left(\\sin{\\left(2.87508328783391 X_{0}^{0.25} \\right)} + 12.0789473684211 \\right)}\\right) \\left(- 3.55586524616231 X_{0}^{0.25} - 3.55672593912412 \\sin{\\left(X_{0}^{0.5} \\sin{\\left(\\sin{\\left(X_{0}^{0.25} \\right)} \\right)} \\right)} + 2 \\cos{\\left(X_{0}^{0.5} \\right)} + \\cos{\\left(2.93296417090969 X_{0}^{0.5} \\right)} + \\cos{\\left(2.99478308786095 X_{0}^{0.5} \\right)} + \\cos{\\left(8.15762830074341 X_{0}^{0.5} \\right)}\\right)$"
      ],
      "text/plain": [
       "(-cos(X0**0.25 + 0.573686821548013) + cos(sin(2.87508328783391*X0**0.25) + 12.0789473684211))*(-3.55586524616231*X0**0.25 - 3.55672593912412*sin(X0**0.5*sin(sin(X0**0.25))) + 2*cos(X0**0.5) + cos(2.93296417090969*X0**0.5) + cos(2.99478308786095*X0**0.5) + cos(8.15762830074341*X0**0.5))"
      ]
     },
     "execution_count": 43,
     "metadata": {},
     "output_type": "execute_result"
    }
   ],
   "source": [
    "# Try to increase R^2 using IQR to delete outliers\n",
    "\n",
    "X = df[[\"level_0\"]]\n",
    "y = df['-0.061']\n",
    "y_true = y\n",
    "X_train, X_test, y_train, y_test = sklearn.model_selection.train_test_split(X, y, test_size=0.30, random_state=42)\n",
    "X_train.shape, X_test.shape, y_train.shape, y_test.shape\n",
    "function_set = ['add', 'sub', 'mul', 'div', 'sqrt','sin', 'cos']\n",
    "est_gp = SymbolicRegressor(population_size=5000, function_set = function_set,\n",
    "                           generations=100, stopping_criteria=0.01,\n",
    "                           p_crossover=0.7, p_subtree_mutation=0.1,\n",
    "                           p_hoist_mutation=0.05, p_point_mutation=0.1,\n",
    "                           max_samples=0.9, verbose=1,\n",
    "                           parsimony_coefficient=0.01, random_state=0)\n",
    "est_gp.fit(X_train, y_train)\n",
    "score_gp = est_gp.score(X_test, y_test)\n",
    "print('R2:', score_gp)\n",
    "converter = {\n",
    "    'add': lambda x, y : x + y,\n",
    "    'sub': lambda x, y : x - y,\n",
    "    'mul': lambda x, y : x*y,\n",
    "    'div': lambda x, y : x/y,\n",
    "    'sqrt': lambda x : x**0.5,\n",
    "    'log': lambda x : log(x),\n",
    "    'abs': lambda x : abs(x),\n",
    "    'neg': lambda x : -x,\n",
    "    'inv': lambda x : 1/x,\n",
    "    'max': lambda x, y : max(x, y),\n",
    "    'min': lambda x, y : min(x, y),\n",
    "    'sin': lambda x : sin(x),\n",
    "    'cos': lambda x : cos(x),\n",
    "    'pow': lambda x, y : x**y,\n",
    "}\n",
    "next_e = sympify(str(est_gp._program), locals=converter)\n",
    "next_e\n"
   ]
  },
  {
   "cell_type": "code",
   "execution_count": 44,
   "id": "4373784c",
   "metadata": {},
   "outputs": [
    {
     "data": {
      "text/plain": [
       "Text(0.5, 0, 'n')"
      ]
     },
     "execution_count": 44,
     "metadata": {},
     "output_type": "execute_result"
    },
    {
     "data": {
      "image/png": "[encoded data removed]",
      "text/plain": [
       "<Figure size 600x400 with 2 Axes>"
      ]
     },
     "metadata": {
      "needs_background": "light"
     },
     "output_type": "display_data"
    }
   ],
   "source": [
    "y_gp = est_gp.predict(X_test)\n",
    "fig = plt.figure(constrained_layout=False, dpi=100)\n",
    "gs = fig.add_gridspec(nrows=7, ncols=1)\n",
    "f_ax = fig.add_subplot(gs[0:5,0])\n",
    "plt.title('EEG data')\n",
    "plt.scatter(X_test, y_test, label = 'True function')\n",
    "plt.scatter(X_test, y_gp, marker = 'v', s = 10, label = 'Symbolic function')\n",
    "plt.legend()\n",
    "plt.ylabel('Target')\n",
    "f_ax2 = fig.add_subplot(gs[5:7, 0])\n",
    "plt.scatter(X_test, 1. - y_gp/y_test, marker = 's', s = 10)\n",
    "plt.ylabel('Residual')\n",
    "plt.xlabel('n')"
   ]
  },
  {
   "cell_type": "code",
   "execution_count": 9,
   "id": "d20266e7",
   "metadata": {},
   "outputs": [
    {
     "data": {
      "text/latex": [
       "$\\displaystyle \\left(- \\cos{\\left(X_{0}^{0.25} + 0.573686821548013 \\right)} + \\cos{\\left(\\sin{\\left(2.87508328783391 X_{0}^{0.25} \\right)} + 12.0789473684211 \\right)}\\right) \\left(- 3.55586524616231 X_{0}^{0.25} - 3.55672593912412 \\sin{\\left(X_{0}^{0.5} \\sin{\\left(\\sin{\\left(X_{0}^{0.25} \\right)} \\right)} \\right)} + 2 \\cos{\\left(X_{0}^{0.5} \\right)} + \\cos{\\left(2.93296417090969 X_{0}^{0.5} \\right)} + \\cos{\\left(2.99478308786095 X_{0}^{0.5} \\right)} + \\cos{\\left(8.15762830074341 X_{0}^{0.5} \\right)}\\right)$"
      ],
      "text/plain": [
       "(-cos(X0**0.25 + 0.573686821548013) + cos(sin(2.87508328783391*X0**0.25) + 12.0789473684211))*(-3.55586524616231*X0**0.25 - 3.55672593912412*sin(X0**0.5*sin(sin(X0**0.25))) + 2*cos(X0**0.5) + cos(2.93296417090969*X0**0.5) + cos(2.99478308786095*X0**0.5) + cos(8.15762830074341*X0**0.5))"
      ]
     },
     "execution_count": 9,
     "metadata": {},
     "output_type": "execute_result"
    }
   ],
   "source": [
    "next_e"
   ]
  },
  {
   "cell_type": "markdown",
   "id": "f28c2ea9",
   "metadata": {},
   "source": [
    "# PPG"
   ]
  },
  {
   "cell_type": "code",
   "execution_count": 24,
   "id": "06e7c3b9",
   "metadata": {},
   "outputs": [],
   "source": [
    "df1 = pd.read_csv(\"ppg.csv\")"
   ]
  },
  {
   "cell_type": "code",
   "execution_count": 25,
   "id": "d2e952b9",
   "metadata": {
    "scrolled": true
   },
   "outputs": [
    {
     "data": {
      "text/plain": [
       "Time          object\n",
       "Red_Signal     int64\n",
       "dtype: object"
      ]
     },
     "execution_count": 25,
     "metadata": {},
     "output_type": "execute_result"
    }
   ],
   "source": [
    "df1.dtypes"
   ]
  },
  {
   "cell_type": "code",
   "execution_count": 11,
   "id": "248aaf07",
   "metadata": {},
   "outputs": [],
   "source": [
    "df1 = df1.iloc[0:300, ]"
   ]
  },
  {
   "cell_type": "code",
   "execution_count": 12,
   "id": "5c676ff9",
   "metadata": {},
   "outputs": [
    {
     "name": "stderr",
     "output_type": "stream",
     "text": [
      "/Users/kimhyunkyunkim/opt/anaconda3/lib/python3.9/site-packages/seaborn/_decorators.py:36: FutureWarning: Pass the following variable as a keyword arg: x. From version 0.12, the only valid positional argument will be `data`, and passing other arguments without an explicit keyword will result in an error or misinterpretation.\n",
      "  warnings.warn(\n"
     ]
    },
    {
     "data": {
      "text/plain": [
       "<AxesSubplot:xlabel='Red_Signal'>"
      ]
     },
     "execution_count": 12,
     "metadata": {},
     "output_type": "execute_result"
    },
    {
     "data": {
      "image/png": "[encoded data removed]",
      "text/plain": [
       "<Figure size 432x288 with 1 Axes>"
      ]
     },
     "metadata": {
      "needs_background": "light"
     },
     "output_type": "display_data"
    }
   ],
   "source": [
    "sns.boxplot(df1[\"Red_Signal\"])"
   ]
  },
  {
   "cell_type": "code",
   "execution_count": 13,
   "id": "8bab77d8",
   "metadata": {},
   "outputs": [],
   "source": [
    "df1 = df1.reset_index(level = 0)"
   ]
  },
  {
   "cell_type": "code",
   "execution_count": 47,
   "id": "64242ec0",
   "metadata": {},
   "outputs": [
    {
     "data": {
      "text/plain": [
       "[<matplotlib.lines.Line2D at 0x7f8d321f7c10>]"
      ]
     },
     "execution_count": 47,
     "metadata": {},
     "output_type": "execute_result"
    },
    {
     "data": {
      "image/png": "[encoded data removed]",
      "text/plain": [
       "<Figure size 432x288 with 1 Axes>"
      ]
     },
     "metadata": {
      "needs_background": "light"
     },
     "output_type": "display_data"
    }
   ],
   "source": [
    "plt.title('PPG data')\n",
    "plt.plot(df1[\"index\"], df1[\"Red_Signal\"])"
   ]
  },
  {
   "cell_type": "code",
   "execution_count": 15,
   "id": "10cd6ef9",
   "metadata": {},
   "outputs": [
    {
     "name": "stdout",
     "output_type": "stream",
     "text": [
      "    |   Population Average    |             Best Individual              |\n",
      "---- ------------------------- ------------------------------------------ ----------\n",
      " Gen   Length          Fitness   Length          Fitness      OOB Fitness  Time Left\n",
      "   0    15.94      1.56524e+06        7          103.845          151.854      1.99m\n",
      "   1    13.61           413939       16          100.854          104.313      1.81m\n",
      "   2    14.88          7168.45       18          91.2638          93.4994      1.82m\n",
      "   3    12.04            11398       18          90.5572          99.8587      1.64m\n",
      "   4    14.67          9503.91       38          73.4627           62.306      1.73m\n",
      "   5    22.57           560992       38          70.5661          72.9931      2.06m\n",
      "   6    26.35          19212.6       42          57.6541          105.324      2.08m\n",
      "   7    30.54          28066.5       36          60.0483          54.7131      2.16m\n",
      "   8    40.28           154501       33          52.4265           123.53      2.48m\n",
      "   9    41.65           290749       33          51.2085          81.2613      2.39m\n",
      "  10    42.00          88449.9       32          49.1703          114.563      2.30m\n",
      "  11    41.32           171596       34          46.8391          102.605      2.22m\n",
      "  12    40.59           124697       59          42.5756          132.677      2.17m\n",
      "  13    39.15          85351.8       54          44.3732          117.288      2.04m\n",
      "  14    38.02           100490       52             43.7          121.881      1.93m\n",
      "  15    37.78          50317.6       50          43.7317          85.1773      1.88m\n",
      "  16    36.83          62782.7       63          43.7849          82.2685      1.74m\n",
      "  17    37.26          53916.1       34          42.1359          110.304      1.67m\n",
      "  18    36.68          93919.3       30          42.5499           88.395      1.63m\n",
      "  19    36.47          42883.1       35          41.5951          80.6514      1.51m\n",
      "  20    35.38      2.17237e+06       36          39.4482          102.291      1.43m\n",
      "  21    35.31          42776.4       53           39.219          93.0084      1.37m\n",
      "  22    35.45            48173       36          40.9487          90.8401      1.34m\n",
      "  23    35.09           183628       36          40.3911          106.358      1.21m\n",
      "  24    35.18          46595.9       53           40.549          107.195      1.14m\n",
      "  25    35.24          43917.9       36          40.3423          68.3452      1.09m\n",
      "  26    35.76          45845.6       33          40.1041          97.8806      1.00m\n",
      "  27    36.35          55583.9       34          39.8437          97.8528     56.36s\n",
      "  28    36.42          41708.4       38          39.3378          89.5088     51.79s\n",
      "  29    36.54          47199.6       37          39.0446          79.3705     48.43s\n",
      "  30    36.34           118106       83          38.6451          83.5201     42.52s\n",
      "  31    36.40          38960.5       35          39.7484          74.6442     37.89s\n",
      "  32    36.26          43761.9       36          40.1317          70.2413     33.75s\n",
      "  33    35.72          40535.4       35          39.8902          71.9293     28.07s\n",
      "  34    36.03          50607.1       34           39.961          70.6752     23.52s\n",
      "  35    35.68          23150.5       36          40.1168           72.505     18.81s\n",
      "  36    35.59          56349.1       35          40.0103          72.2874     14.30s\n",
      "  37    35.53          55879.7       35          39.9932          72.4415      9.37s\n",
      "  38    35.33          32742.9       46          39.3292          71.4222      4.65s\n",
      "  39    35.43          45946.9       37          39.3872          76.2869      0.00s\n",
      "R2: 0.9297970131794222\n"
     ]
    },
    {
     "data": {
      "text/latex": [
       "$\\displaystyle \\frac{18.5361522119009 \\left(2.48891467118554 X_{0} + \\frac{1}{\\log{\\left(\\log{\\left(-0.59783700075562 + i \\pi \\right)} \\right)}}\\right) \\cos{\\left(\\cos{\\left(\\log{\\left(X_{0} \\right)} \\right)} \\right)}}{X_{0}^{2} \\left(0.023 X_{0} - 0.00204311791525216\\right)}$"
      ],
      "text/plain": [
       "18.5361522119009*(2.48891467118554*X0 + 1/log(log(-0.59783700075562 + I*pi)))*cos(cos(log(X0)))/(X0**2*(0.023*X0 - 0.00204311791525216))"
      ]
     },
     "execution_count": 15,
     "metadata": {},
     "output_type": "execute_result"
    }
   ],
   "source": [
    "# Increase parsimony, compare between different parsimony_coefficient\n",
    "X = df1[[\"index\"]]\n",
    "y = df1[\"Red_Signal\"]\n",
    "y_true = y\n",
    "X_train, X_test, y_train, y_test = sklearn.model_selection.train_test_split(X, y, test_size=0.30, random_state=42)\n",
    "X_train.shape, X_test.shape, y_train.shape, y_test.shape\n",
    "function_set = ['add', 'sub', 'mul', 'div',\n",
    "                'log', 'inv','sin', 'cos']\n",
    "est_gp = SymbolicRegressor(population_size=5000, function_set = function_set,\n",
    "                           generations=40, stopping_criteria=0.01,\n",
    "                           p_crossover=0.7, p_subtree_mutation=0.1,\n",
    "                           p_hoist_mutation=0.05, p_point_mutation=0.1,\n",
    "                           max_samples=0.9, verbose=1,\n",
    "                           parsimony_coefficient=0.1, random_state=0)\n",
    "est_gp.fit(X_train, y_train)\n",
    "score_gp = est_gp.score(X_test, y_test)\n",
    "print('R2:', score_gp)\n",
    "converter = {\n",
    "    'add': lambda x, y : x + y,\n",
    "    'sub': lambda x, y : x - y,\n",
    "    'mul': lambda x, y : x*y,\n",
    "    'div': lambda x, y : x/y,\n",
    "    'sqrt': lambda x : x**0.5,\n",
    "    'log': lambda x : log(x),\n",
    "    'abs': lambda x : abs(x),\n",
    "    'neg': lambda x : -x,\n",
    "    'inv': lambda x : 1/x,\n",
    "    'max': lambda x, y : max(x, y),\n",
    "    'min': lambda x, y : min(x, y),\n",
    "    'sin': lambda x : sin(x),\n",
    "    'cos': lambda x : cos(x),\n",
    "    'pow': lambda x, y : x**y,\n",
    "}\n",
    "next_e = sympify(str(est_gp._program), locals=converter)\n",
    "next_e"
   ]
  },
  {
   "cell_type": "code",
   "execution_count": 16,
   "id": "1f34b3fa",
   "metadata": {},
   "outputs": [
    {
     "data": {
      "text/plain": [
       "Text(0.5, 0, 'n')"
      ]
     },
     "execution_count": 16,
     "metadata": {},
     "output_type": "execute_result"
    },
    {
     "data": {
      "image/png": "[encoded data removed]",
      "text/plain": [
       "<Figure size 600x400 with 2 Axes>"
      ]
     },
     "metadata": {
      "needs_background": "light"
     },
     "output_type": "display_data"
    }
   ],
   "source": [
    "y_gp = est_gp.predict(X_test)\n",
    "fig = plt.figure(constrained_layout=False, dpi=100)\n",
    "gs = fig.add_gridspec(nrows=7, ncols=1)\n",
    "f_ax = fig.add_subplot(gs[0:5,0])\n",
    "plt.title('PPG data')\n",
    "plt.scatter(X_test, y_test, label = 'True function')\n",
    "plt.scatter(X_test, y_gp, marker = 'v', s = 10, label = 'Symbolic function')\n",
    "plt.legend()\n",
    "plt.ylabel('Target')\n",
    "f_ax2 = fig.add_subplot(gs[5:7, 0])\n",
    "plt.scatter(X_test, 1. - y_gp/y_test, marker = 's', s = 10)\n",
    "plt.ylabel('Residual')\n",
    "plt.xlabel('n')"
   ]
  },
  {
   "cell_type": "markdown",
   "id": "099ad277",
   "metadata": {},
   "source": [
    "# Accelerometer Data-Climb the stairs"
   ]
  },
  {
   "cell_type": "code",
   "execution_count": 26,
   "id": "cb75a2d7",
   "metadata": {},
   "outputs": [],
   "source": [
    "df2 = pd.read_csv(\"acc_climbStair.txt\", sep =\" \", header = None)"
   ]
  },
  {
   "cell_type": "code",
   "execution_count": 29,
   "id": "b6c135f9",
   "metadata": {},
   "outputs": [
    {
     "data": {
      "text/plain": [
       "index    int64\n",
       "x        int64\n",
       "y        int64\n",
       "z        int64\n",
       "dtype: object"
      ]
     },
     "execution_count": 29,
     "metadata": {},
     "output_type": "execute_result"
    }
   ],
   "source": [
    "df2.dtypes"
   ]
  },
  {
   "cell_type": "code",
   "execution_count": 28,
   "id": "c6f8360f",
   "metadata": {},
   "outputs": [
    {
     "ename": "NameError",
     "evalue": "name 'sns' is not defined",
     "output_type": "error",
     "traceback": [
      "\u001b[0;31m---------------------------------------------------------------------------\u001b[0m",
      "\u001b[0;31mNameError\u001b[0m                                 Traceback (most recent call last)",
      "\u001b[0;32m/var/folders/bn/qc5vfhgd70b9bh2v45b8_nhr0000gn/T/ipykernel_9453/956705792.py\u001b[0m in \u001b[0;36m<module>\u001b[0;34m\u001b[0m\n\u001b[1;32m      1\u001b[0m \u001b[0mdf2\u001b[0m \u001b[0;34m=\u001b[0m \u001b[0mdf2\u001b[0m\u001b[0;34m.\u001b[0m\u001b[0mreset_index\u001b[0m\u001b[0;34m(\u001b[0m\u001b[0mlevel\u001b[0m \u001b[0;34m=\u001b[0m \u001b[0;36m0\u001b[0m\u001b[0;34m)\u001b[0m\u001b[0;34m\u001b[0m\u001b[0;34m\u001b[0m\u001b[0m\n\u001b[1;32m      2\u001b[0m \u001b[0mdf2\u001b[0m\u001b[0;34m.\u001b[0m\u001b[0mcolumns\u001b[0m \u001b[0;34m=\u001b[0m \u001b[0;34m[\u001b[0m\u001b[0;34m\"index\"\u001b[0m\u001b[0;34m,\u001b[0m \u001b[0;34m\"x\"\u001b[0m\u001b[0;34m,\u001b[0m \u001b[0;34m\"y\"\u001b[0m\u001b[0;34m,\u001b[0m \u001b[0;34m\"z\"\u001b[0m\u001b[0;34m]\u001b[0m\u001b[0;34m\u001b[0m\u001b[0;34m\u001b[0m\u001b[0m\n\u001b[0;32m----> 3\u001b[0;31m \u001b[0msns\u001b[0m\u001b[0;34m.\u001b[0m\u001b[0mboxplot\u001b[0m\u001b[0;34m(\u001b[0m\u001b[0mdf2\u001b[0m\u001b[0;34m[\u001b[0m\u001b[0;34m\"y\"\u001b[0m\u001b[0;34m]\u001b[0m\u001b[0;34m)\u001b[0m\u001b[0;34m\u001b[0m\u001b[0;34m\u001b[0m\u001b[0m\n\u001b[0m\u001b[1;32m      4\u001b[0m \u001b[0;34m\u001b[0m\u001b[0m\n",
      "\u001b[0;31mNameError\u001b[0m: name 'sns' is not defined"
     ]
    }
   ],
   "source": [
    "df2 = df2.reset_index(level = 0)\n",
    "df2.columns = [\"index\", \"x\", \"y\", \"z\"]\n",
    "sns.boxplot(df2[\"y\"])\n",
    "\n"
   ]
  },
  {
   "cell_type": "code",
   "execution_count": 19,
   "id": "dabe3895",
   "metadata": {},
   "outputs": [],
   "source": [
    "# change with 2 * IQR or 1.75 * IQR or 1\n",
    "Q1 = np.percentile(df2[\"y\"], 25)\n",
    "Q3 = np.percentile(df2[\"y\"], 75)\n",
    "IQR = Q3 - Q1\n",
    "lower = Q1 - 1.5*IQR\n",
    "upper = Q3 + 1.5*IQR\n",
    " \n",
    "\n",
    "upper_array = np.where(df2[\"y\"]>=upper)[0]\n",
    "lower_array = np.where(df2[\"y\"]<=lower)[0]\n",
    " \n",
    "df2.drop(index=upper_array, inplace=True)\n",
    "df2.drop(index=lower_array, inplace=True)"
   ]
  },
  {
   "cell_type": "code",
   "execution_count": 48,
   "id": "ce0d56a5",
   "metadata": {},
   "outputs": [
    {
     "data": {
      "text/plain": [
       "[<matplotlib.lines.Line2D at 0x7f8d306ee9d0>]"
      ]
     },
     "execution_count": 48,
     "metadata": {},
     "output_type": "execute_result"
    },
    {
     "data": {
      "image/png": "[encoded data removed]",
      "text/plain": [
       "<Figure size 432x288 with 1 Axes>"
      ]
     },
     "metadata": {
      "needs_background": "light"
     },
     "output_type": "display_data"
    }
   ],
   "source": [
    "# IQR Range to delete outliers\n",
    "plt.title('ACC data')\n",
    "plt.plot(df2[\"index\"], df2[\"y\"])\n"
   ]
  },
  {
   "cell_type": "code",
   "execution_count": 21,
   "id": "ae8fbf9d",
   "metadata": {},
   "outputs": [
    {
     "name": "stdout",
     "output_type": "stream",
     "text": [
      "    |   Population Average    |             Best Individual              |\n",
      "---- ------------------------- ------------------------------------------ ----------\n",
      " Gen   Length          Fitness   Length          Fitness      OOB Fitness  Time Left\n",
      "   0    14.13          8958.41       21          1.24683           1.2417      2.78m\n",
      "   1    14.88          3402.41       21          1.19791          1.67627      2.76m\n",
      "   2    20.03          18765.8       24          1.13163          1.58762      2.99m\n",
      "   3    23.15          3310.17       33          1.12772          1.77834      3.26m\n",
      "   4    22.42          67.6999       18          1.12589          1.64716      3.14m\n",
      "   5    22.62          85.4092       16          1.10352          1.76943      3.09m\n",
      "   6    22.04          94.2177       50          1.10218          1.79536      3.07m\n",
      "   7    21.27          190.413       14          1.11392          1.76597      2.89m\n",
      "   8    20.14          98.1527       18          1.03687          1.50813      2.78m\n",
      "   9    19.65          95.3714       18          1.06664          1.24378      2.79m\n",
      "  10    19.23          83.2499       18          1.04847          1.40515      2.68m\n",
      "  11    18.37          123.845       19          1.05379          1.27893      2.59m\n",
      "  12    18.20          65.7748       18          1.03164          1.49164      2.51m\n",
      "  13    18.00          49.0839       18          1.01327          1.65484      2.44m\n",
      "  14    18.43          46.1941       18          1.01124          1.64592      2.30m\n",
      "  15    18.49          76.1042       18          1.01134          1.67193      2.24m\n",
      "  16    18.33          43.9736       19           1.0065          1.77062      2.18m\n",
      "  17    18.70          55.3973       18         0.984282           1.8808      2.20m\n",
      "  18    18.80          333.487       18         0.997564          1.76735      2.09m\n",
      "  19    19.07          47.4081       18          1.00627          1.69002      2.03m\n",
      "  20    19.29          35.6417       20          0.99377          1.80091      2.05m\n",
      "  21    19.70          43.0515       24          1.00347          1.48174      1.96m\n",
      "  22    19.68          1305.53       24         0.997337          1.53622      1.89m\n",
      "  23    19.83          109.973       28          1.00676          1.29572      1.84m\n",
      "  24    20.54          46.4908       32         0.977834          1.54168      1.86m\n",
      "  25    22.22          39.1279       30         0.969373          1.58981      1.86m\n",
      "  26    25.26          28.1545       37         0.970856          1.53753      1.89m\n",
      "  27    27.83          37.2378       29         0.955032          1.69772      1.81m\n",
      "  28    28.12          33.6598       24         0.955736          1.69558      1.80m\n",
      "  29    27.64          35.2598       29         0.963545          1.58473      1.69m\n",
      "  30    28.00          84.2684       27         0.960438          1.61329      1.65m\n",
      "  31    28.42          38.3042       41         0.951278          1.68513      1.65m\n",
      "  32    28.76          53.1693       36         0.954237          1.64979      1.55m\n",
      "  33    28.52          35.1856       25         0.966266          1.56324      1.49m\n",
      "  34    28.66          33.0907       36         0.953925          1.72163      1.43m\n",
      "  35    28.44          33.6409       31         0.954175            1.677      1.42m\n",
      "  36    28.37          29.0674       25         0.965867          1.55416      1.31m\n",
      "  37    28.08          29.0024       35         0.958419           1.6279      1.26m\n",
      "  38    27.90          31.3663       30         0.970672          1.51276      1.20m\n",
      "  39    28.28          36.9758       31         0.950593          1.68943      1.20m\n",
      "  40    28.30          984.913       28         0.969486          1.56002      1.13m\n",
      "  41    28.47          35.9719       40         0.961618          1.56504      1.07m\n",
      "  42    28.67           50.855       28         0.932535          1.85231      1.05m\n",
      "  43    28.84          24.7632       25         0.948746           1.7284     59.43s\n",
      "  44    28.84          42.7939       26         0.961171          1.60157     52.36s\n",
      "  45    28.49          30.1354       28         0.955431           1.6474     48.76s\n",
      "  46    28.35          30.3278       24         0.949525          1.88124     45.41s\n",
      "  47    28.49          34.6141       26         0.965371          1.58291     43.75s\n",
      "  48    28.19          36.1721       34         0.963379          1.59984     38.08s\n",
      "  49    28.04          97.8231       30         0.963311          1.57792     34.67s\n",
      "  50    28.16          45.4909       33         0.954312          1.66411     32.31s\n",
      "  51    28.22          22.2352       31         0.950964            1.706     27.80s\n",
      "  52    27.96          24.8652       35         0.954395           1.6689     24.13s\n",
      "  53    27.79          37.2741       29         0.958799           1.6325     20.66s\n",
      "  54    27.74          24.7908       31         0.961061          1.60581     17.23s\n",
      "  55    27.83          63.9804       25         0.972264          1.50878     14.31s\n",
      "  56    27.70          34.7082       25         0.967031          1.56599     10.37s\n",
      "  57    27.73          32.9851       36         0.946713          1.65858      6.93s\n",
      "  58    28.22          43.3233       25         0.957165          1.68519      3.49s\n",
      "  59    27.76          46.6294       31         0.964876          1.57424      0.00s\n",
      "R2: 0.25924255471934454\n"
     ]
    },
    {
     "data": {
      "text/latex": [
       "$\\displaystyle \\cos{\\left(0.27 X_{0} + 0.543827192766729 \\right)} + 36.1689927061491$"
      ],
      "text/plain": [
       "cos(0.27*X0 + 0.543827192766729) + 36.1689927061491"
      ]
     },
     "execution_count": 21,
     "metadata": {},
     "output_type": "execute_result"
    }
   ],
   "source": [
    "X = df2[[\"index\"]]\n",
    "y = df2[\"y\"]\n",
    "y_true = y\n",
    "X_train, X_test, y_train, y_test = sklearn.model_selection.train_test_split(X, y, test_size=0.30, random_state=42)\n",
    "X_train.shape, X_test.shape, y_train.shape, y_test.shape\n",
    "function_set = ['add', 'sub', 'mul', 'div', 'sqrt', 'log', 'inv', 'sin', 'cos']\n",
    "est_gp = SymbolicRegressor(population_size=5000, function_set = function_set,\n",
    "                           generations=60, stopping_criteria=0.01,\n",
    "                           p_crossover=0.7, p_subtree_mutation=0.1,\n",
    "                           p_hoist_mutation=0.05, p_point_mutation=0.1,\n",
    "                           max_samples=0.9, verbose=1,\n",
    "                           parsimony_coefficient=0.001, random_state=0)\n",
    "est_gp.fit(X_train, y_train)\n",
    "score_gp = est_gp.score(X_test, y_test)\n",
    "print('R2:', score_gp)\n",
    "converter = {\n",
    "    'add': lambda x, y : x + y,\n",
    "    'sub': lambda x, y : x - y,\n",
    "    'mul': lambda x, y : x*y,\n",
    "    'div': lambda x, y : x/y,\n",
    "    'sqrt': lambda x : x**0.5,\n",
    "    'log': lambda x : log(x),\n",
    "    'abs': lambda x : abs(x),\n",
    "    'neg': lambda x : -x,\n",
    "    'inv': lambda x : 1/x,\n",
    "    'max': lambda x, y : max(x, y),\n",
    "    'min': lambda x, y : min(x, y),\n",
    "    'sin': lambda x : sin(x),\n",
    "    'cos': lambda x : cos(x),\n",
    "    'pow': lambda x, y : x**y,\n",
    "}\n",
    "next_e = sympify(str(est_gp._program), locals=converter)\n",
    "next_e"
   ]
  },
  {
   "cell_type": "code",
   "execution_count": 22,
   "id": "9a45c9ec",
   "metadata": {},
   "outputs": [
    {
     "data": {
      "text/plain": [
       "Text(0.5, 0, 'n')"
      ]
     },
     "execution_count": 22,
     "metadata": {},
     "output_type": "execute_result"
    },
    {
     "data": {
      "image/png": "[encoded data removed]",
      "text/plain": [
       "<Figure size 600x400 with 2 Axes>"
      ]
     },
     "metadata": {
      "needs_background": "light"
     },
     "output_type": "display_data"
    }
   ],
   "source": [
    "y_gp = est_gp.predict(X_test)\n",
    "fig = plt.figure(constrained_layout=False, dpi=100)\n",
    "gs = fig.add_gridspec(nrows=7, ncols=1)\n",
    "f_ax = fig.add_subplot(gs[0:5,0])\n",
    "plt.title('Accelerometer data')\n",
    "plt.scatter(X_test, y_test, label = 'True function')\n",
    "plt.scatter(X_test, y_gp, marker = 'v', s = 10, label = 'Symbolic function')\n",
    "plt.legend()\n",
    "plt.ylabel('Target')\n",
    "f_ax2 = fig.add_subplot(gs[5:7, 0])\n",
    "plt.scatter(X_test, 1. - y_gp/y_test, marker = 's', s = 10)\n",
    "plt.ylabel('Residual')\n",
    "plt.xlabel('n')"
   ]
  },
  {
   "cell_type": "markdown",
   "id": "aa7794da",
   "metadata": {
    "scrolled": true
   },
   "source": [
    "# CGM"
   ]
  },
  {
   "cell_type": "code",
   "execution_count": 30,
   "id": "d9b1d57a",
   "metadata": {},
   "outputs": [],
   "source": [
    "# Using IQR to delete outliers\n",
    "df3 = pd.read_csv(\"cgm.csv\")\n",
    "df3 = df3.reset_index(level = 0)"
   ]
  },
  {
   "cell_type": "code",
   "execution_count": 34,
   "id": "c2755a75",
   "metadata": {},
   "outputs": [
    {
     "data": {
      "text/plain": [
       "0     256\n",
       "1     260\n",
       "2     232\n",
       "3     228\n",
       "4     137\n",
       "5     213\n",
       "6     164\n",
       "7     228\n",
       "8     187\n",
       "9     134\n",
       "10    219\n",
       "11    227\n",
       "12    187\n",
       "13    157\n",
       "14    121\n",
       "15    207\n",
       "16    216\n",
       "17     80\n",
       "18    180\n",
       "19    136\n",
       "20    127\n",
       "21     93\n",
       "22    150\n",
       "23     71\n",
       "24    176\n",
       "25     97\n",
       "26     69\n",
       "27     98\n",
       "28    190\n",
       "29    167\n",
       "30     78\n",
       "31    106\n",
       "32    164\n",
       "Name: cgmSeries_ 1, dtype: int64"
      ]
     },
     "execution_count": 34,
     "metadata": {},
     "output_type": "execute_result"
    }
   ],
   "source": [
    "df3[\"cgmSeries_ 1\"]"
   ]
  },
  {
   "cell_type": "code",
   "execution_count": 52,
   "id": "ec89015a",
   "metadata": {},
   "outputs": [
    {
     "name": "stderr",
     "output_type": "stream",
     "text": [
      "/Users/kimhyunkyunkim/opt/anaconda3/lib/python3.9/site-packages/seaborn/_decorators.py:36: FutureWarning: Pass the following variable as a keyword arg: x. From version 0.12, the only valid positional argument will be `data`, and passing other arguments without an explicit keyword will result in an error or misinterpretation.\n",
      "  warnings.warn(\n"
     ]
    },
    {
     "data": {
      "text/plain": [
       "<AxesSubplot:xlabel='cgmSeries_ 1'>"
      ]
     },
     "execution_count": 52,
     "metadata": {},
     "output_type": "execute_result"
    },
    {
     "data": {
      "image/png": "[encoded data removed]",
      "text/plain": [
       "<Figure size 432x288 with 1 Axes>"
      ]
     },
     "metadata": {
      "needs_background": "light"
     },
     "output_type": "display_data"
    }
   ],
   "source": [
    "sns.boxplot(df3[\"cgmSeries_ 1\"])"
   ]
  },
  {
   "cell_type": "code",
   "execution_count": 49,
   "id": "9680aadf",
   "metadata": {},
   "outputs": [
    {
     "data": {
      "text/plain": [
       "[<matplotlib.lines.Line2D at 0x7f8d202cf130>]"
      ]
     },
     "execution_count": 49,
     "metadata": {},
     "output_type": "execute_result"
    },
    {
     "data": {
      "image/png": "[encoded data removed]",
      "text/plain": [
       "<Figure size 432x288 with 1 Axes>"
      ]
     },
     "metadata": {
      "needs_background": "light"
     },
     "output_type": "display_data"
    }
   ],
   "source": [
    "# Apply same as previous one\n",
    "plt.title('CGM data')\n",
    "plt.plot(df3[\"index\"], df3[\"cgmSeries_ 1\"])"
   ]
  },
  {
   "cell_type": "code",
   "execution_count": 53,
   "id": "c62e5fb3",
   "metadata": {},
   "outputs": [
    {
     "name": "stdout",
     "output_type": "stream",
     "text": [
      "    |   Population Average    |             Best Individual              |\n",
      "---- ------------------------- ------------------------------------------ ----------\n",
      " Gen   Length          Fitness   Length          Fitness      OOB Fitness  Time Left\n",
      "   0    48.81      2.95459e+10       63          43.2535          35.9963      3.26m\n",
      "   1    31.38          38606.5       63          39.4222          61.5386      2.20m\n",
      "   2    40.26      3.08374e+07       65          33.3143          93.3774      2.41m\n",
      "   3    49.12      9.88011e+07       63          35.7703          44.1841      2.52m\n",
      "   4    54.51          61777.9       73          32.5973           49.871      2.72m\n",
      "   5    54.22      2.04396e+06       69          31.3953          61.5102      2.53m\n",
      "   6    56.03           582041       77          30.1731          61.5071      2.48m\n",
      "   7    54.66           117585       77           29.118          72.6791      2.37m\n",
      "   8    53.39           216537       65          28.2544           78.369      2.35m\n",
      "   9    52.40           172656       55           26.579          89.0099      2.20m\n",
      "  10    50.07           294275       65          27.0028          87.4524      2.02m\n",
      "  11    48.79          91555.1       57          26.6163          88.3691      1.90m\n",
      "  12    46.87           102176       29          28.3936          85.5554      1.85m\n",
      "  13    43.53           127879       51          28.2257          73.8885      1.65m\n",
      "  14    41.37           420061       51           26.886          81.0834      1.56m\n",
      "  15    40.45           111953       31          28.3631           85.555      1.47m\n",
      "  16    38.90          72182.2       55          28.0166          79.1052      1.39m\n",
      "  17    38.28          97436.4       45          28.2845          85.5539      1.36m\n",
      "  18    37.36      4.54202e+06       49           27.899          73.9994      1.24m\n",
      "  19    37.67           205575       39          28.3641          85.5846      1.18m\n",
      "  20    36.91           244223       33          28.3936          85.5554      1.12m\n",
      "  21    36.31          85005.8       49          28.8515          75.0898      1.09m\n",
      "  22    35.77           105353       45          28.2544          85.5177      1.03m\n",
      "  23    35.35           100427       65           28.261          85.5533     57.54s\n",
      "  24    35.45           120331       31          28.3878          85.5947     54.56s\n",
      "  25    34.76          57564.8       35          29.0457          80.0125     50.72s\n",
      "  26    35.09          76410.9       31          28.3878          85.5947     48.13s\n",
      "  27    34.74           394211       31          28.4595          85.5854     42.88s\n",
      "  28    34.56          56082.2       35          29.2037          80.3185     40.51s\n",
      "  29    33.65          53175.6       29          29.3113           80.061     35.10s\n",
      "  30    33.74            55962       43          26.4318          84.0926     33.41s\n",
      "  31    34.29      2.10904e+06       43          27.3667          77.6664     28.44s\n",
      "  32    34.01           209640       31          28.2533          85.5141     24.73s\n",
      "  33    33.60           208027       43          28.3986          86.5555     21.20s\n",
      "  34    33.58          53380.3       57          28.4575          84.8364     17.50s\n",
      "  35    33.49           100851       33          28.5279          85.1661     14.74s\n",
      "  36    33.56          60213.7       43          28.4629          86.1267     10.55s\n",
      "  37    33.47           290504       51          28.6769          70.9099      6.96s\n",
      "  38    33.29           133672       33          28.2349          85.0469      3.41s\n",
      "  39    33.02           146915       37          28.2044          72.7957      0.00s\n",
      "R2: 0.2724846080289144\n"
     ]
    },
    {
     "data": {
      "text/latex": [
       "$\\displaystyle - 3 X_{0} + 95.1142962002236 + \\frac{120.147172145826 \\left(X_{0} + 0.426\\right)}{X_{0}}$"
      ],
      "text/plain": [
       "-3*X0 + 95.1142962002236 + 120.147172145826*(X0 + 0.426)/X0"
      ]
     },
     "execution_count": 53,
     "metadata": {},
     "output_type": "execute_result"
    }
   ],
   "source": [
    "\n",
    "X = df3[[\"index\"]]\n",
    "y = df3[\"cgmSeries_ 1\"]\n",
    "y_true = y\n",
    "X_train, X_test, y_train, y_test = sklearn.model_selection.train_test_split(X, y, test_size=0.30, random_state=42)\n",
    "X_train.shape, X_test.shape, y_train.shape, y_test.shape\n",
    "function_set = ['add', 'sub', 'mul', 'div']\n",
    "est_gp = SymbolicRegressor(population_size=5000, function_set = function_set,\n",
    "                           generations=40, stopping_criteria=0.01,\n",
    "                           p_crossover=0.7, p_subtree_mutation=0.1,\n",
    "                           p_hoist_mutation=0.05, p_point_mutation=0.1,\n",
    "                           max_samples=0.9, verbose=1,\n",
    "                           parsimony_coefficient=0.1, random_state=0)\n",
    "est_gp.fit(X_train, y_train)\n",
    "score_gp = est_gp.score(X_test, y_test)\n",
    "print('R2:', score_gp)\n",
    "converter = {\n",
    "    'add': lambda x, y : x + y,\n",
    "    'sub': lambda x, y : x - y,\n",
    "    'mul': lambda x, y : x*y,\n",
    "    'div': lambda x, y : x/y,\n",
    "    'sqrt': lambda x : x**0.5,\n",
    "    'log': lambda x : log(x),\n",
    "    'abs': lambda x : abs(x),\n",
    "    'neg': lambda x : -x,\n",
    "    'inv': lambda x : 1/x,\n",
    "    'max': lambda x, y : max(x, y),\n",
    "    'min': lambda x, y : min(x, y),\n",
    "    'sin': lambda x : sin(x),\n",
    "    'cos': lambda x : cos(x),\n",
    "    'pow': lambda x, y : x**y,\n",
    "}\n",
    "next_e = sympify(str(est_gp._program), locals=converter)\n",
    "next_e"
   ]
  },
  {
   "cell_type": "code",
   "execution_count": 27,
   "id": "6b824bfe",
   "metadata": {},
   "outputs": [
    {
     "data": {
      "text/plain": [
       "Text(0.5, 0, 'n')"
      ]
     },
     "execution_count": 27,
     "metadata": {},
     "output_type": "execute_result"
    },
    {
     "data": {
      "image/png": "[encoded data removed]",
      "text/plain": [
       "<Figure size 600x400 with 2 Axes>"
      ]
     },
     "metadata": {
      "needs_background": "light"
     },
     "output_type": "display_data"
    }
   ],
   "source": [
    "y_gp = est_gp.predict(X_test)\n",
    "fig = plt.figure(constrained_layout=False, dpi=100)\n",
    "gs = fig.add_gridspec(nrows=7, ncols=1)\n",
    "f_ax = fig.add_subplot(gs[0:5,0])\n",
    "plt.title('CGM data')\n",
    "plt.scatter(X_test, y_test, label = 'True function')\n",
    "plt.scatter(X_test, y_gp, marker = 'v', s = 10, label = 'Symbolic function')\n",
    "plt.legend()\n",
    "plt.ylabel('Target')\n",
    "f_ax2 = fig.add_subplot(gs[5:7, 0])\n",
    "plt.scatter(X_test, 1. - y_gp/y_test, marker = 's', s = 10)\n",
    "plt.ylabel('Residual')\n",
    "plt.xlabel('n')"
   ]
  },
  {
   "cell_type": "markdown",
   "id": "d85d7d8f",
   "metadata": {},
   "source": [
    "# Respiratory signals"
   ]
  },
  {
   "cell_type": "code",
   "execution_count": 35,
   "id": "cb165afa",
   "metadata": {},
   "outputs": [],
   "source": [
    "df4 = pd.read_csv(\"res.csv\")"
   ]
  },
  {
   "cell_type": "code",
   "execution_count": 36,
   "id": "2ac55f6a",
   "metadata": {},
   "outputs": [],
   "source": [
    "df4 = df4.reset_index(level = 0)\n",
    "df4 = df4.iloc[0:1000, ]"
   ]
  },
  {
   "cell_type": "code",
   "execution_count": 37,
   "id": "fc164246",
   "metadata": {},
   "outputs": [
    {
     "data": {
      "text/plain": [
       "index         int64\n",
       "Time [s]    float64\n",
       " RESP       float64\n",
       " PLETH      float64\n",
       " V          float64\n",
       " AVR        float64\n",
       " II         float64\n",
       "dtype: object"
      ]
     },
     "execution_count": 37,
     "metadata": {},
     "output_type": "execute_result"
    }
   ],
   "source": [
    "df4.dtypes"
   ]
  },
  {
   "cell_type": "code",
   "execution_count": 56,
   "id": "7ddbd0ce",
   "metadata": {},
   "outputs": [
    {
     "name": "stderr",
     "output_type": "stream",
     "text": [
      "/Users/kimhyunkyunkim/opt/anaconda3/lib/python3.9/site-packages/seaborn/_decorators.py:36: FutureWarning: Pass the following variable as a keyword arg: x. From version 0.12, the only valid positional argument will be `data`, and passing other arguments without an explicit keyword will result in an error or misinterpretation.\n",
      "  warnings.warn(\n"
     ]
    },
    {
     "data": {
      "text/plain": [
       "<AxesSubplot:xlabel=' RESP'>"
      ]
     },
     "execution_count": 56,
     "metadata": {},
     "output_type": "execute_result"
    },
    {
     "data": {
      "image/png": "[encoded data removed]",
      "text/plain": [
       "<Figure size 432x288 with 1 Axes>"
      ]
     },
     "metadata": {
      "needs_background": "light"
     },
     "output_type": "display_data"
    }
   ],
   "source": [
    "sns.boxplot(df4[\" RESP\"])"
   ]
  },
  {
   "cell_type": "code",
   "execution_count": 42,
   "id": "65f2f633",
   "metadata": {},
   "outputs": [
    {
     "data": {
      "text/html": [
       "<div>\n",
       "<style scoped>\n",
       "    .dataframe tbody tr th:only-of-type {\n",
       "        vertical-align: middle;\n",
       "    }\n",
       "\n",
       "    .dataframe tbody tr th {\n",
       "        vertical-align: top;\n",
       "    }\n",
       "\n",
       "    .dataframe thead th {\n",
       "        text-align: right;\n",
       "    }\n",
       "</style>\n",
       "<table border=\"1\" class=\"dataframe\">\n",
       "  <thead>\n",
       "    <tr style=\"text-align: right;\">\n",
       "      <th></th>\n",
       "      <th>index</th>\n",
       "      <th>Time [s]</th>\n",
       "      <th>RESP</th>\n",
       "      <th>PLETH</th>\n",
       "      <th>V</th>\n",
       "      <th>AVR</th>\n",
       "      <th>II</th>\n",
       "    </tr>\n",
       "  </thead>\n",
       "  <tbody>\n",
       "    <tr>\n",
       "      <th>0</th>\n",
       "      <td>0</td>\n",
       "      <td>0.000</td>\n",
       "      <td>0.35386</td>\n",
       "      <td>0.43597</td>\n",
       "      <td>0.52549</td>\n",
       "      <td>0.30392</td>\n",
       "      <td>0.72549</td>\n",
       "    </tr>\n",
       "    <tr>\n",
       "      <th>1</th>\n",
       "      <td>1</td>\n",
       "      <td>0.008</td>\n",
       "      <td>0.35679</td>\n",
       "      <td>0.43206</td>\n",
       "      <td>0.51961</td>\n",
       "      <td>0.33529</td>\n",
       "      <td>0.67059</td>\n",
       "    </tr>\n",
       "    <tr>\n",
       "      <th>2</th>\n",
       "      <td>2</td>\n",
       "      <td>0.016</td>\n",
       "      <td>0.35875</td>\n",
       "      <td>0.42815</td>\n",
       "      <td>0.51569</td>\n",
       "      <td>0.37451</td>\n",
       "      <td>0.60980</td>\n",
       "    </tr>\n",
       "    <tr>\n",
       "      <th>3</th>\n",
       "      <td>3</td>\n",
       "      <td>0.024</td>\n",
       "      <td>0.36168</td>\n",
       "      <td>0.42424</td>\n",
       "      <td>0.50588</td>\n",
       "      <td>0.41961</td>\n",
       "      <td>0.55098</td>\n",
       "    </tr>\n",
       "    <tr>\n",
       "      <th>4</th>\n",
       "      <td>4</td>\n",
       "      <td>0.032</td>\n",
       "      <td>0.36364</td>\n",
       "      <td>0.42131</td>\n",
       "      <td>0.50980</td>\n",
       "      <td>0.44902</td>\n",
       "      <td>0.50000</td>\n",
       "    </tr>\n",
       "    <tr>\n",
       "      <th>...</th>\n",
       "      <td>...</td>\n",
       "      <td>...</td>\n",
       "      <td>...</td>\n",
       "      <td>...</td>\n",
       "      <td>...</td>\n",
       "      <td>...</td>\n",
       "      <td>...</td>\n",
       "    </tr>\n",
       "    <tr>\n",
       "      <th>995</th>\n",
       "      <td>995</td>\n",
       "      <td>7.960</td>\n",
       "      <td>0.76442</td>\n",
       "      <td>0.47116</td>\n",
       "      <td>0.46471</td>\n",
       "      <td>0.57451</td>\n",
       "      <td>0.31961</td>\n",
       "    </tr>\n",
       "    <tr>\n",
       "      <th>996</th>\n",
       "      <td>996</td>\n",
       "      <td>7.968</td>\n",
       "      <td>0.77713</td>\n",
       "      <td>0.49071</td>\n",
       "      <td>0.45490</td>\n",
       "      <td>0.57059</td>\n",
       "      <td>0.33529</td>\n",
       "    </tr>\n",
       "    <tr>\n",
       "      <th>997</th>\n",
       "      <td>997</td>\n",
       "      <td>7.976</td>\n",
       "      <td>0.78983</td>\n",
       "      <td>0.50733</td>\n",
       "      <td>0.46471</td>\n",
       "      <td>0.56471</td>\n",
       "      <td>0.32353</td>\n",
       "    </tr>\n",
       "    <tr>\n",
       "      <th>998</th>\n",
       "      <td>998</td>\n",
       "      <td>7.984</td>\n",
       "      <td>0.80254</td>\n",
       "      <td>0.52004</td>\n",
       "      <td>0.47451</td>\n",
       "      <td>0.56471</td>\n",
       "      <td>0.32941</td>\n",
       "    </tr>\n",
       "    <tr>\n",
       "      <th>999</th>\n",
       "      <td>999</td>\n",
       "      <td>7.992</td>\n",
       "      <td>0.81525</td>\n",
       "      <td>0.53372</td>\n",
       "      <td>0.49020</td>\n",
       "      <td>0.58039</td>\n",
       "      <td>0.30980</td>\n",
       "    </tr>\n",
       "  </tbody>\n",
       "</table>\n",
       "<p>1000 rows × 7 columns</p>\n",
       "</div>"
      ],
      "text/plain": [
       "     index  Time [s]     RESP    PLETH        V      AVR       II\n",
       "0        0     0.000  0.35386  0.43597  0.52549  0.30392  0.72549\n",
       "1        1     0.008  0.35679  0.43206  0.51961  0.33529  0.67059\n",
       "2        2     0.016  0.35875  0.42815  0.51569  0.37451  0.60980\n",
       "3        3     0.024  0.36168  0.42424  0.50588  0.41961  0.55098\n",
       "4        4     0.032  0.36364  0.42131  0.50980  0.44902  0.50000\n",
       "..     ...       ...      ...      ...      ...      ...      ...\n",
       "995    995     7.960  0.76442  0.47116  0.46471  0.57451  0.31961\n",
       "996    996     7.968  0.77713  0.49071  0.45490  0.57059  0.33529\n",
       "997    997     7.976  0.78983  0.50733  0.46471  0.56471  0.32353\n",
       "998    998     7.984  0.80254  0.52004  0.47451  0.56471  0.32941\n",
       "999    999     7.992  0.81525  0.53372  0.49020  0.58039  0.30980\n",
       "\n",
       "[1000 rows x 7 columns]"
      ]
     },
     "execution_count": 42,
     "metadata": {},
     "output_type": "execute_result"
    }
   ],
   "source": [
    "df4"
   ]
  },
  {
   "cell_type": "code",
   "execution_count": 41,
   "id": "547f9242",
   "metadata": {},
   "outputs": [
    {
     "data": {
      "text/plain": [
       "[<matplotlib.lines.Line2D at 0x7fab0394c0a0>]"
      ]
     },
     "execution_count": 41,
     "metadata": {},
     "output_type": "execute_result"
    },
    {
     "data": {
      "image/png": "[encoded data removed]",
      "text/plain": [
       "<Figure size 432x288 with 1 Axes>"
      ]
     },
     "metadata": {
      "needs_background": "light"
     },
     "output_type": "display_data"
    }
   ],
   "source": [
    "plt.title('Respiratory Data')\n",
    "plt.plot(df4[\"index\"], df4[\" RESP\"])"
   ]
  },
  {
   "cell_type": "code",
   "execution_count": 40,
   "id": "55991071",
   "metadata": {},
   "outputs": [
    {
     "data": {
      "text/plain": [
       "Index(['index', 'Time [s]', ' RESP', ' PLETH', ' V', ' AVR', ' II'], dtype='object')"
      ]
     },
     "execution_count": 40,
     "metadata": {},
     "output_type": "execute_result"
    }
   ],
   "source": [
    "df4.columns"
   ]
  },
  {
   "cell_type": "code",
   "execution_count": 60,
   "id": "c82bc666",
   "metadata": {},
   "outputs": [
    {
     "name": "stdout",
     "output_type": "stream",
     "text": [
      "    |   Population Average    |             Best Individual              |\n",
      "---- ------------------------- ------------------------------------------ ----------\n",
      " Gen   Length          Fitness   Length          Fitness      OOB Fitness  Time Left\n",
      "   0    12.62      1.22721e+06       12         0.267829         0.305038      2.98m\n",
      "   1     8.55          222.253        2         0.264162         0.340057      2.70m\n",
      "   2     5.94          3775.01       11         0.254849          0.29593      2.58m\n",
      "   3     3.54          464.865       11         0.259075         0.257893      2.21m\n",
      "   4     2.61          845.242       11         0.257332         0.273586      2.08m\n",
      "   5     2.53          2424.45       10         0.255104         0.293638      2.04m\n",
      "   6     2.31          790.878       10         0.253931         0.304196      2.00m\n",
      "   7     2.75          1670.44       14         0.246007         0.242991      2.09m\n",
      "   8     3.94           953.26       14         0.237962         0.315394      2.06m\n",
      "   9     6.16          238.653       18         0.229791         0.258208      2.18m\n",
      "  10    10.34           72.887       22         0.219517         0.240009      2.38m\n",
      "  11    14.85          45.9523       22         0.216211         0.269902      2.65m\n",
      "  12    18.61          69.7519       22         0.215445         0.276658      2.66m\n",
      "  13    21.19          1.67654       22         0.213241         0.296668      2.70m\n",
      "  14    21.52          2.72235       22         0.215805         0.273592      2.63m\n",
      "  15    21.91          70.0118       22         0.215127          0.27969      2.60m\n",
      "  16    21.68          1.87394       22         0.214369         0.286513      2.62m\n",
      "  17    21.85          69.8828       22         0.214616         0.284114      2.47m\n",
      "  18    21.78          68.2904       22         0.213525         0.293938      2.41m\n",
      "  19    21.87          2.38471       22         0.213976         0.290014      2.37m\n",
      "  20    21.79          68.4332       22         0.214353         0.286653      2.39m\n",
      "  21    21.66          41.9715       24         0.213372         0.222671      2.24m\n",
      "  22    21.80          18681.1       24         0.210774         0.246055      2.19m\n",
      "  23    21.78          3.69385       24         0.209774         0.255051      2.13m\n",
      "  24    22.07           69.644       24         0.208836         0.263493      2.09m\n",
      "  25    22.16          3.07042       32          0.20625         0.239576      2.12m\n",
      "  26    23.41          2.66399       26         0.202823         0.267813      2.03m\n",
      "  27    24.29          71.6297       37         0.194228         0.232586      2.01m\n",
      "  28    24.74          317.845       37         0.196695         0.210381      1.96m\n",
      "  29    25.24          4.17963       35         0.195999         0.215214      1.95m\n",
      "  30    25.96          3.51954       35         0.180339         0.171822      2.00m\n",
      "  31    26.74          75.3725       37         0.174259         0.195113      1.90m\n",
      "  32    27.28          4.05889       35         0.164183         0.192542      1.84m\n",
      "  33    29.23          69.3907       36          0.16541         0.181513      1.88m\n",
      "  34    33.26          68.6732       36         0.162777         0.205209      1.97m\n",
      "  35    34.68          3.40719       36          0.16209         0.211398      1.85m\n",
      "  36    34.80          2.50819       36         0.162028         0.211957      1.82m\n",
      "  37    34.91          108.696       36         0.160791         0.204902      1.76m\n",
      "  38    35.05          79.6205       34         0.157533         0.228841      1.70m\n",
      "  39    35.15          2.14459       35         0.159473         0.234938      1.70m\n",
      "  40    34.90          2.06012       34         0.157395         0.230087      1.53m\n",
      "  41    34.63          2.31438       37         0.149335         0.202277      1.47m\n",
      "  42    34.68          3.01902       37         0.150904         0.169661      1.39m\n",
      "  43    34.68          2.81881       45         0.146558         0.119776      1.32m\n",
      "  44    34.61          68.9916       47         0.141785         0.175494      1.26m\n",
      "  45    35.14          2.30421       45         0.137711         0.199405      1.17m\n",
      "  46    35.57          2.88401       48         0.138076         0.147717      1.11m\n",
      "  47    36.09          68.4955       50         0.132938         0.133094      1.04m\n",
      "  48    37.43          2.19206       47         0.131527         0.124926     57.44s\n",
      "  49    38.79          69.6883       47         0.128949         0.148131     55.48s\n",
      "  50    41.06          1.58771       47         0.125713         0.177255     49.51s\n",
      "  51    43.99          1.76664       60          0.12406         0.148945     44.83s\n",
      "  52    45.76          1.55102       50         0.123782         0.142938     40.28s\n",
      "  53    46.63          1.78642       49         0.124074         0.114143     36.69s\n",
      "  54    46.24          1.59661       49         0.120228         0.148758     29.13s\n",
      "  55    46.24           1.4368       60         0.121871         0.129796     23.23s\n",
      "  56    46.58          2.20675       49         0.119863         0.152044     17.34s\n",
      "  57    46.28          1.87258       49         0.120416         0.147066     11.54s\n",
      "  58    47.42          1.61412       94         0.119441         0.189591      6.03s\n",
      "  59    48.01          50.2252       49         0.119526         0.155072      0.00s\n",
      "R2: 0.6906186402477266\n"
     ]
    },
    {
     "data": {
      "text/latex": [
       "$\\displaystyle \\left(\\frac{\\sin{\\left(\\sin{\\left(0.628490254498827 X_{0}^{0.5} \\right)} \\right)}}{\\sin{\\left(0.978774744259372 \\left(- X_{0}\\right)^{0.5} \\right)} + \\sin{\\left(\\sin{\\left(0.628490254498827 X_{0}^{0.5} \\right)} + \\sin{\\left(X_{0}^{0.5} \\right)} + \\sin{\\left(\\sin{\\left(X_{0}^{0.5} \\right)} \\right)} \\right)} + \\sin{\\left(\\sin{\\left(0.978774744259372 \\left(- X_{0}\\right)^{0.5} \\right)} \\right)} - 5.37634408602151 + \\frac{2}{\\cos{\\left(\\log{\\left(X_{0} \\right)} \\right)}}}\\right)^{0.5}$"
      ],
      "text/plain": [
       "(sin(sin(0.628490254498827*X0**0.5))/(sin(0.978774744259372*(-X0)**0.5) + sin(sin(0.628490254498827*X0**0.5) + sin(X0**0.5) + sin(sin(X0**0.5))) + sin(sin(0.978774744259372*(-X0)**0.5)) - 5.37634408602151 + 2/cos(log(X0))))**0.5"
      ]
     },
     "execution_count": 60,
     "metadata": {},
     "output_type": "execute_result"
    }
   ],
   "source": [
    "X = df4[[\"index\"]]\n",
    "y = df4[\" RESP\"]\n",
    "y_true = y\n",
    "X_train, X_test, y_train, y_test = sklearn.model_selection.train_test_split(X, y, test_size=0.30, random_state=42)\n",
    "X_train.shape, X_test.shape, y_train.shape, y_test.shape\n",
    "function_set = ['add', 'sub', 'mul', 'div', 'sqrt', 'abs',\n",
    "                'log', 'inv','sin', 'cos']\n",
    "est_gp = SymbolicRegressor(population_size=5000, function_set = function_set,\n",
    "                           generations=60, stopping_criteria=0.01,\n",
    "                           p_crossover=0.7, p_subtree_mutation=0.1,\n",
    "                           p_hoist_mutation=0.05, p_point_mutation=0.1,\n",
    "                           max_samples=0.9, verbose=1,\n",
    "                           parsimony_coefficient=0.001, random_state=0)\n",
    "est_gp.fit(X_train, y_train)\n",
    "score_gp = est_gp.score(X_test, y_test)\n",
    "print('R2:', score_gp)\n",
    "converter = {\n",
    "    'add': lambda x, y : x + y,\n",
    "    'sub': lambda x, y : x - y,\n",
    "    'mul': lambda x, y : x*y,\n",
    "    'div': lambda x, y : x/y,\n",
    "    'sqrt': lambda x : x**0.5,\n",
    "    'log': lambda x : log(x),\n",
    "    'abs': lambda x : abs(x),\n",
    "    'neg': lambda x : -x,\n",
    "    'inv': lambda x : 1/x,\n",
    "    'max': lambda x, y : max(x, y),\n",
    "    'min': lambda x, y : min(x, y),\n",
    "    'sin': lambda x : sin(x),\n",
    "    'cos': lambda x : cos(x),\n",
    "    'pow': lambda x, y : x**y,\n",
    "}\n",
    "next_e = sympify(str(est_gp._program), locals=converter)\n",
    "next_e"
   ]
  },
  {
   "cell_type": "code",
   "execution_count": 59,
   "id": "07288b3a",
   "metadata": {},
   "outputs": [
    {
     "data": {
      "text/plain": [
       "Text(0.5, 0, 'n')"
      ]
     },
     "execution_count": 59,
     "metadata": {},
     "output_type": "execute_result"
    },
    {
     "data": {
      "image/png": "[encoded data removed]",
      "text/plain": [
       "<Figure size 600x400 with 2 Axes>"
      ]
     },
     "metadata": {
      "needs_background": "light"
     },
     "output_type": "display_data"
    }
   ],
   "source": [
    "y_gp = est_gp.predict(X_test)\n",
    "fig = plt.figure(constrained_layout=False, dpi=100)\n",
    "gs = fig.add_gridspec(nrows=7, ncols=1)\n",
    "f_ax = fig.add_subplot(gs[0:5,0])\n",
    "plt.title('RESP data')\n",
    "plt.scatter(X_test, y_test, label = 'True function')\n",
    "plt.scatter(X_test, y_gp, marker = 'v', s = 10, label = 'Symbolic function')\n",
    "plt.legend()\n",
    "plt.ylabel('Target')\n",
    "f_ax2 = fig.add_subplot(gs[5:7, 0])\n",
    "plt.scatter(X_test, 1. - y_gp/y_test, marker = 's', s = 10)\n",
    "plt.ylabel('Residual')\n",
    "plt.xlabel('n')"
   ]
  },
  {
   "cell_type": "markdown",
   "id": "dd3c6ad7",
   "metadata": {},
   "source": [
    "hard to fit the model. My personal opinion is because of inhalation and exhalation."
   ]
  }
 ],
 "metadata": {
  "kernelspec": {
   "display_name": "Python 3 (ipykernel)",
   "language": "python",
   "name": "python3"
  },
  "language_info": {
   "codemirror_mode": {
    "name": "ipython",
    "version": 3
   },
   "file_extension": ".py",
   "mimetype": "text/x-python",
   "name": "python",
   "nbconvert_exporter": "python",
   "pygments_lexer": "ipython3",
   "version": "3.9.7"
  }
 },
 "nbformat": 4,
 "nbformat_minor": 5
}
