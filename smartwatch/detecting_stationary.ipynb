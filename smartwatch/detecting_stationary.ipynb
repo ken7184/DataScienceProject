{
  "cells": [
    {
      "cell_type": "code",
      "execution_count": null,
      "id": "4cb264f5",
      "metadata": {
        "id": "4cb264f5"
      },
      "outputs": [],
      "source": [
        "import pandas as pd\n",
        "import numpy as np\n",
        "import matplotlib.pyplot as plt"
      ]
    },
    {
      "cell_type": "code",
      "source": [
        "from google.colab import drive\n",
        "\n",
        "drive.mount('/content/drive')\n",
        "datadir = \"/content/drive/My Drive/\""
      ],
      "metadata": {
        "id": "-r23-gEvqzRD",
        "colab": {
          "base_uri": "https://localhost:8080/"
        },
        "outputId": "d01dfe37-fdef-4cdf-8af4-cc0de2515b44"
      },
      "id": "-r23-gEvqzRD",
      "execution_count": null,
      "outputs": [
        {
          "output_type": "stream",
          "name": "stdout",
          "text": [
            "Mounted at /content/drive\n"
          ]
        }
      ]
    },
    {
      "cell_type": "code",
      "execution_count": null,
      "id": "cb7ac86e",
      "metadata": {
        "id": "cb7ac86e"
      },
      "outputs": [],
      "source": [
        "d1 = pd.read_csv(\"/content/drive/MyDrive/user1.features_labels.csv\")\n",
        "d2 = pd.read_csv(\"/content/drive/MyDrive/user2.features_labels.csv\")\n",
        "data = pd.concat([d1, d2], axis = 0)"
      ]
    },
    {
      "cell_type": "code",
      "execution_count": null,
      "id": "0e08dc5a",
      "metadata": {
        "id": "0e08dc5a",
        "colab": {
          "base_uri": "https://localhost:8080/"
        },
        "outputId": "ddb5f159-22f7-41c5-965a-0b82a98e4682"
      },
      "outputs": [
        {
          "output_type": "execute_result",
          "data": {
            "text/plain": [
              "(11530, 278)"
            ]
          },
          "metadata": {},
          "execution_count": 4
        }
      ],
      "source": [
        "data.shape"
      ]
    },
    {
      "cell_type": "markdown",
      "id": "88b04bae",
      "metadata": {
        "id": "88b04bae"
      },
      "source": [
        "# Data Cleaning"
      ]
    },
    {
      "cell_type": "code",
      "execution_count": null,
      "id": "54bf271f",
      "metadata": {
        "id": "54bf271f"
      },
      "outputs": [],
      "source": [
        "sel_col = [col for col in data.columns if \"watch\" in col.lower()]\n",
        "new_data = data[sel_col]"
      ]
    },
    {
      "cell_type": "code",
      "execution_count": null,
      "id": "99a08399",
      "metadata": {
        "id": "99a08399"
      },
      "outputs": [],
      "source": [
        "watch_data = new_data[[\"watch_acceleration:3d:mean_x\", \"watch_acceleration:3d:mean_y\", \"watch_acceleration:3d:mean_z\",\n",
        "         \"watch_acceleration:3d:std_x\", \"watch_acceleration:3d:std_y\", \"watch_acceleration:3d:std_z\",\n",
        "         \"watch_acceleration:3d:ro_xy\", \"watch_acceleration:3d:ro_xz\", \"watch_acceleration:3d:ro_yz\"]]"
      ]
    },
    {
      "cell_type": "code",
      "execution_count": null,
      "id": "d8bbe61a",
      "metadata": {
        "id": "d8bbe61a"
      },
      "outputs": [],
      "source": [
        "sel_col1 = [col for col in data.columns if \"label\" in col.lower()]\n",
        "new_data1 = data[sel_col1]"
      ]
    },
    {
      "cell_type": "code",
      "execution_count": null,
      "id": "05455053",
      "metadata": {
        "id": "05455053"
      },
      "outputs": [],
      "source": [
        "label_data = new_data1[[\"label:OR_standing\", \"label:LYING_DOWN\", \"label:SITTING\",\n",
        "                        \"label:FIX_walking\", \"label:FIX_running\", \"label:OR_exercise\"]]"
      ]
    },
    {
      "cell_type": "code",
      "execution_count": null,
      "id": "ce7ec6fb",
      "metadata": {
        "id": "ce7ec6fb"
      },
      "outputs": [],
      "source": [
        "final_data = pd.concat([watch_data, label_data], axis=1)"
      ]
    },
    {
      "cell_type": "code",
      "execution_count": null,
      "id": "0269e5af",
      "metadata": {
        "id": "0269e5af"
      },
      "outputs": [],
      "source": [
        "cleaned_data = final_data.dropna()"
      ]
    },
    {
      "cell_type": "code",
      "execution_count": null,
      "id": "39d0ffee",
      "metadata": {
        "id": "39d0ffee",
        "colab": {
          "base_uri": "https://localhost:8080/"
        },
        "outputId": "553a5de7-6aab-4d8d-bb9b-7b5d57201c1c"
      },
      "outputs": [
        {
          "output_type": "stream",
          "name": "stderr",
          "text": [
            "<ipython-input-11-151e9c3e470a>:1: SettingWithCopyWarning: \n",
            "A value is trying to be set on a copy of a slice from a DataFrame.\n",
            "Try using .loc[row_indexer,col_indexer] = value instead\n",
            "\n",
            "See the caveats in the documentation: https://pandas.pydata.org/pandas-docs/stable/user_guide/indexing.html#returning-a-view-versus-a-copy\n",
            "  cleaned_data['stationary'] = cleaned_data.apply(\n"
          ]
        }
      ],
      "source": [
        "cleaned_data['stationary'] = cleaned_data.apply(\n",
        "    lambda row: 1 if (row[\"label:OR_standing\"] == 1 or row[\"label:LYING_DOWN\"] == 1 or row[\"label:SITTING\"] == 1) else 0,\n",
        "    axis=1\n",
        ")"
      ]
    },
    {
      "cell_type": "code",
      "execution_count": null,
      "id": "8ccb7ca5",
      "metadata": {
        "id": "8ccb7ca5",
        "colab": {
          "base_uri": "https://localhost:8080/",
          "height": 472
        },
        "outputId": "fcca4b89-8b41-4ecd-9a38-ac6bdf4acc44"
      },
      "outputs": [
        {
          "output_type": "display_data",
          "data": {
            "text/plain": [
              "<Figure size 640x480 with 1 Axes>"
            ],
            "image/png": "[encoded data removed]"
          },
          "metadata": {}
        }
      ],
      "source": [
        "import matplotlib.pyplot as plt\n",
        "\n",
        "\n",
        "stationary_counts = cleaned_data['stationary'].value_counts()\n",
        "\n",
        "plt.bar(stationary_counts.index, stationary_counts.values)\n",
        "\n",
        "plt.xlabel('Stationary')\n",
        "plt.ylabel('Count')\n",
        "plt.title('Distribution of Stationary Column (1: Stationary, 0: Non-Stationary)')\n",
        "\n",
        "plt.show()\n"
      ]
    },
    {
      "cell_type": "code",
      "execution_count": null,
      "id": "14c94ba1",
      "metadata": {
        "id": "14c94ba1"
      },
      "outputs": [],
      "source": [
        "cleaned_data = cleaned_data.drop([\"label:OR_standing\", \"label:LYING_DOWN\", \"label:SITTING\",\n",
        "                                  \"label:FIX_walking\", \"label:FIX_running\", \"label:OR_exercise\"], axis = 1)"
      ]
    },
    {
      "cell_type": "code",
      "execution_count": null,
      "id": "7d7b3b88",
      "metadata": {
        "id": "7d7b3b88"
      },
      "outputs": [],
      "source": [
        "X = cleaned_data.drop(\"stationary\", axis = 1)\n",
        "y = cleaned_data[\"stationary\"]"
      ]
    },
    {
      "cell_type": "code",
      "execution_count": null,
      "id": "6d97bea1",
      "metadata": {
        "id": "6d97bea1"
      },
      "outputs": [],
      "source": [
        "from sklearn.model_selection import train_test_split\n",
        "X_train, X_test, y_train, y_test = train_test_split(X, y, test_size = 0.3, stratify = y, random_state = 121)"
      ]
    },
    {
      "cell_type": "code",
      "execution_count": null,
      "id": "6d06905b",
      "metadata": {
        "id": "6d06905b",
        "colab": {
          "base_uri": "https://localhost:8080/"
        },
        "outputId": "74ac61e9-4ad1-4003-f6d1-cc82280e8689"
      },
      "outputs": [
        {
          "output_type": "execute_result",
          "data": {
            "text/plain": [
              "0.9555555555555556"
            ]
          },
          "metadata": {},
          "execution_count": 16
        }
      ],
      "source": [
        "#Logistic Regression\n",
        "\n",
        "from sklearn import metrics\n",
        "from sklearn.linear_model import LogisticRegression\n",
        "from sklearn.metrics import accuracy_score, confusion_matrix, classification_report\n",
        "lr_clf = LogisticRegression(max_iter = 1000)\n",
        "lr_clf.fit(X_train, y_train)\n",
        "lr_preds = lr_clf.predict(X_test)\n",
        "lr_acc = accuracy_score(y_test, lr_preds)\n",
        "lr_acc"
      ]
    },
    {
      "cell_type": "code",
      "execution_count": null,
      "id": "b567a9f0",
      "metadata": {
        "id": "b567a9f0",
        "colab": {
          "base_uri": "https://localhost:8080/"
        },
        "outputId": "c27127f8-b814-47b1-f430-ff4bb72c4853"
      },
      "outputs": [
        {
          "output_type": "stream",
          "name": "stdout",
          "text": [
            "[[ 14  24]\n",
            " [  4 588]]\n",
            "              precision    recall  f1-score   support\n",
            "\n",
            "           0       0.78      0.37      0.50        38\n",
            "           1       0.96      0.99      0.98       592\n",
            "\n",
            "    accuracy                           0.96       630\n",
            "   macro avg       0.87      0.68      0.74       630\n",
            "weighted avg       0.95      0.96      0.95       630\n",
            "\n"
          ]
        }
      ],
      "source": [
        "confusion_matrix = metrics.confusion_matrix(y_test, lr_preds)\n",
        "print(confusion_matrix)\n",
        "print(classification_report(y_test, lr_preds))"
      ]
    },
    {
      "cell_type": "code",
      "execution_count": null,
      "id": "a29bd927",
      "metadata": {
        "id": "a29bd927",
        "colab": {
          "base_uri": "https://localhost:8080/"
        },
        "outputId": "8b6cc4b1-3ffb-4fc4-a0f9-5f27762a9917"
      },
      "outputs": [
        {
          "output_type": "stream",
          "name": "stdout",
          "text": [
            "Best Parameters: {'max_depth': 6, 'min_samples_split': 32, 'random_state': 121}\n",
            "Accuracy on Test Set: 0.953968253968254\n"
          ]
        }
      ],
      "source": [
        "# Decision Tree\n",
        "\n",
        "# Grid Search\n",
        "\n",
        "from sklearn.model_selection import GridSearchCV\n",
        "from sklearn.tree import DecisionTreeClassifier\n",
        "from sklearn.metrics import accuracy_score\n",
        "\n",
        "param_grid = {\n",
        "    'max_depth': [6, 8, 10, 12],\n",
        "    'min_samples_split': [16, 24, 32],\n",
        "    'random_state': [121]\n",
        "}\n",
        "\n",
        "dt_clf = DecisionTreeClassifier()\n",
        "\n",
        "grid_search = GridSearchCV(estimator=dt_clf, param_grid=param_grid, scoring='accuracy', cv=3)\n",
        "grid_search.fit(X_train, y_train)\n",
        "\n",
        "best_params = grid_search.best_params_\n",
        "print(\"Best Parameters:\", best_params)\n",
        "best_dt_clf = grid_search.best_estimator_\n",
        "\n",
        "dt_preds = best_dt_clf.predict(X_test)\n",
        "\n",
        "dt_acc = accuracy_score(y_test, dt_preds)\n",
        "print(\"Accuracy on Test Set:\", dt_acc)\n"
      ]
    },
    {
      "cell_type": "code",
      "execution_count": null,
      "id": "3920ba0c",
      "metadata": {
        "id": "3920ba0c",
        "colab": {
          "base_uri": "https://localhost:8080/"
        },
        "outputId": "126dc896-b050-408d-85e3-246d6125d215"
      },
      "outputs": [
        {
          "output_type": "stream",
          "name": "stdout",
          "text": [
            "[[ 21  17]\n",
            " [ 12 580]]\n",
            "              precision    recall  f1-score   support\n",
            "\n",
            "           0       0.64      0.55      0.59        38\n",
            "           1       0.97      0.98      0.98       592\n",
            "\n",
            "    accuracy                           0.95       630\n",
            "   macro avg       0.80      0.77      0.78       630\n",
            "weighted avg       0.95      0.95      0.95       630\n",
            "\n"
          ]
        }
      ],
      "source": [
        "confusion_matrix = metrics.confusion_matrix(y_test, dt_preds)\n",
        "print(confusion_matrix)\n",
        "print(classification_report(y_test, dt_preds))"
      ]
    },
    {
      "cell_type": "code",
      "execution_count": null,
      "id": "62b66287",
      "metadata": {
        "id": "62b66287",
        "colab": {
          "base_uri": "https://localhost:8080/"
        },
        "outputId": "6b4a01ea-d04a-47a4-f98e-b9cc577d0ea2"
      },
      "outputs": [
        {
          "output_type": "stream",
          "name": "stdout",
          "text": [
            "Best Parameters: {'max_depth': 8, 'min_samples_leaf': 1, 'min_samples_split': 5, 'n_estimators': 50, 'random_state': 121}\n",
            "Accuracy on Test Set: 0.9666666666666667\n"
          ]
        }
      ],
      "source": [
        "# Random Forest\n",
        "\n",
        "from sklearn.ensemble import RandomForestClassifier\n",
        "param_grid = {\n",
        "    'n_estimators': [50, 100, 200],\n",
        "    'max_depth': [None, 6, 8, 10],\n",
        "    'min_samples_split': [2, 5, 10],\n",
        "    'min_samples_leaf': [1, 2, 4],\n",
        "    'random_state': [121]\n",
        "}\n",
        "\n",
        "rf_clf = RandomForestClassifier()\n",
        "\n",
        "grid_search = GridSearchCV(estimator=rf_clf, param_grid=param_grid, scoring='accuracy', cv=3)\n",
        "\n",
        "grid_search.fit(X_train, y_train)\n",
        "\n",
        "best_params = grid_search.best_params_\n",
        "print(\"Best Parameters:\", best_params)\n",
        "\n",
        "best_rf_clf = grid_search.best_estimator_\n",
        "\n",
        "rf_preds = best_rf_clf.predict(X_test)\n",
        "\n",
        "rf_acc = accuracy_score(y_test, rf_preds)\n",
        "print(\"Accuracy on Test Set:\", rf_acc)"
      ]
    },
    {
      "cell_type": "code",
      "execution_count": null,
      "id": "be32d417",
      "metadata": {
        "id": "be32d417",
        "colab": {
          "base_uri": "https://localhost:8080/"
        },
        "outputId": "b9a2d723-a892-424a-ac1f-14eace07adba"
      },
      "outputs": [
        {
          "output_type": "stream",
          "name": "stdout",
          "text": [
            "[[ 21  17]\n",
            " [  4 588]]\n",
            "              precision    recall  f1-score   support\n",
            "\n",
            "           0       0.84      0.55      0.67        38\n",
            "           1       0.97      0.99      0.98       592\n",
            "\n",
            "    accuracy                           0.97       630\n",
            "   macro avg       0.91      0.77      0.82       630\n",
            "weighted avg       0.96      0.97      0.96       630\n",
            "\n"
          ]
        }
      ],
      "source": [
        "confusion_matrix = metrics.confusion_matrix(y_test, rf_preds)\n",
        "print(confusion_matrix)\n",
        "print(classification_report(y_test, rf_preds))"
      ]
    },
    {
      "cell_type": "code",
      "execution_count": null,
      "id": "da9ff286",
      "metadata": {
        "id": "da9ff286",
        "colab": {
          "base_uri": "https://localhost:8080/"
        },
        "outputId": "85aadb45-6e7e-4da5-e1cc-0a6051569e41"
      },
      "outputs": [
        {
          "output_type": "execute_result",
          "data": {
            "text/plain": [
              "0.9666666666666667"
            ]
          },
          "metadata": {},
          "execution_count": 22
        }
      ],
      "source": [
        "from sklearn import svm\n",
        "svm_clf = svm.SVC(kernel = \"rbf\", C = 10)\n",
        "svm_clf.fit(X_train, y_train)\n",
        "svm_preds = svm_clf.predict(X_test)\n",
        "svm_acc = accuracy_score(y_test, svm_preds)\n",
        "svm_acc"
      ]
    },
    {
      "cell_type": "code",
      "execution_count": null,
      "id": "df75e78f",
      "metadata": {
        "id": "df75e78f",
        "colab": {
          "base_uri": "https://localhost:8080/"
        },
        "outputId": "ed50a2bb-d6c0-4ed2-9abd-715979917383"
      },
      "outputs": [
        {
          "output_type": "stream",
          "name": "stdout",
          "text": [
            "[[ 21  17]\n",
            " [  4 588]]\n",
            "              precision    recall  f1-score   support\n",
            "\n",
            "           0       0.84      0.55      0.67        38\n",
            "           1       0.97      0.99      0.98       592\n",
            "\n",
            "    accuracy                           0.97       630\n",
            "   macro avg       0.91      0.77      0.82       630\n",
            "weighted avg       0.96      0.97      0.96       630\n",
            "\n"
          ]
        }
      ],
      "source": [
        "confusion_matrix = metrics.confusion_matrix(y_test, svm_preds)\n",
        "print(confusion_matrix)\n",
        "print(classification_report(y_test, svm_preds))"
      ]
    },
    {
      "cell_type": "code",
      "source": [
        "# xgb\n",
        "import xgboost as xgb\n",
        "param_grid = {\n",
        "    'max_depth': [3, 5, 7],\n",
        "    'learning_rate': [0.01, 0.1, 0.2],\n",
        "    'n_estimators': [50, 100, 200],\n",
        "    'subsample': [0.8, 1.0],\n",
        "    'colsample_bytree': [0.8, 1.0],\n",
        "    'gamma': [0, 1, 2],\n",
        "}\n",
        "\n",
        "xgb_clf = xgb.XGBClassifier(objective='binary:logistic', random_state=42)\n",
        "\n",
        "grid_search = GridSearchCV(estimator=xgb_clf, param_grid=param_grid, scoring='accuracy', cv=3)\n",
        "\n",
        "grid_search.fit(X_train, y_train)\n",
        "\n",
        "best_params = grid_search.best_params_\n",
        "print(\"Best Parameters:\", best_params)\n",
        "\n",
        "best_xgb_clf = grid_search.best_estimator_\n",
        "\n",
        "best_xgb_preds = best_xgb_clf.predict(X_test)\n",
        "\n",
        "best_xgb_acc = accuracy_score(y_test, best_xgb_preds)\n",
        "print(\"Accuracy on Test Set:\", best_xgb_acc)\n"
      ],
      "metadata": {
        "colab": {
          "base_uri": "https://localhost:8080/"
        },
        "id": "Wyd4uflrxq7l",
        "outputId": "7af6c24e-30cb-4ae1-9eef-5b0bbac86dc0"
      },
      "id": "Wyd4uflrxq7l",
      "execution_count": null,
      "outputs": [
        {
          "output_type": "stream",
          "name": "stdout",
          "text": [
            "Best Parameters: {'colsample_bytree': 0.8, 'gamma': 0, 'learning_rate': 0.1, 'max_depth': 3, 'n_estimators': 50, 'subsample': 1.0}\n",
            "Accuracy on Test Set: 0.9603174603174603\n"
          ]
        }
      ]
    },
    {
      "cell_type": "code",
      "source": [
        "confusion_matrix = metrics.confusion_matrix(y_test, best_xgb_preds)\n",
        "print(confusion_matrix)\n",
        "print(classification_report(y_test, best_xgb_preds))"
      ],
      "metadata": {
        "colab": {
          "base_uri": "https://localhost:8080/"
        },
        "id": "j8gheukXx882",
        "outputId": "d10d78da-2199-4b8b-deb3-8cb0d95a1243"
      },
      "id": "j8gheukXx882",
      "execution_count": null,
      "outputs": [
        {
          "output_type": "stream",
          "name": "stdout",
          "text": [
            "[[ 21  17]\n",
            " [  8 584]]\n",
            "              precision    recall  f1-score   support\n",
            "\n",
            "           0       0.72      0.55      0.63        38\n",
            "           1       0.97      0.99      0.98       592\n",
            "\n",
            "    accuracy                           0.96       630\n",
            "   macro avg       0.85      0.77      0.80       630\n",
            "weighted avg       0.96      0.96      0.96       630\n",
            "\n"
          ]
        }
      ]
    },
    {
      "cell_type": "code",
      "source": [
        "import tensorflow as tf\n",
        "from tensorflow.keras.models import Sequential\n",
        "from tensorflow.keras.layers import Dense, Conv1D, GlobalMaxPooling1D\n",
        "from sklearn.metrics import accuracy_score\n",
        "from sklearn.model_selection import train_test_split\n",
        "\n",
        "cnn_model = Sequential()\n",
        "\n",
        "cnn_model.add(Conv1D(filters=32, kernel_size=3, activation='relu', input_shape=(X_train.shape[1], 1)))\n",
        "cnn_model.add(GlobalMaxPooling1D())\n",
        "\n",
        "cnn_model.add(Dense(units=50, activation='relu'))\n",
        "cnn_model.add(Dense(units=1, activation='sigmoid'))\n",
        "\n",
        "\n",
        "cnn_model.compile(optimizer='adam', loss='binary_crossentropy', metrics=['accuracy'])\n",
        "\n",
        "cnn_model.fit(X_train, y_train.astype('float32'), epochs=10, batch_size=32, validation_split=0.2)\n",
        "\n",
        "cnn_preds = cnn_model.predict(X_test)\n",
        "cnn_preds = (cnn_preds > 0.5).astype(int)\n",
        "\n",
        "cnn_acc = accuracy_score(y_test, cnn_preds)\n",
        "print(\"Accuracy on Test Set:\", cnn_acc)\n"
      ],
      "metadata": {
        "colab": {
          "base_uri": "https://localhost:8080/"
        },
        "id": "nq1R32EAtmqw",
        "outputId": "b3132688-cbf8-479a-e0ad-2adf9eb5e6e9"
      },
      "id": "nq1R32EAtmqw",
      "execution_count": null,
      "outputs": [
        {
          "output_type": "stream",
          "name": "stdout",
          "text": [
            "Epoch 1/10\n",
            "37/37 [==============================] - 2s 14ms/step - loss: 24.2224 - accuracy: 0.7300 - val_loss: 6.2209 - val_accuracy: 0.9252\n",
            "Epoch 2/10\n",
            "37/37 [==============================] - 0s 5ms/step - loss: 2.9790 - accuracy: 0.9276 - val_loss: 1.5872 - val_accuracy: 0.9048\n",
            "Epoch 3/10\n",
            "37/37 [==============================] - 0s 6ms/step - loss: 1.3335 - accuracy: 0.9259 - val_loss: 1.1198 - val_accuracy: 0.9184\n",
            "Epoch 4/10\n",
            "37/37 [==============================] - 0s 5ms/step - loss: 0.9963 - accuracy: 0.9233 - val_loss: 0.9847 - val_accuracy: 0.9218\n",
            "Epoch 5/10\n",
            "37/37 [==============================] - 0s 5ms/step - loss: 0.8254 - accuracy: 0.9216 - val_loss: 0.7542 - val_accuracy: 0.9286\n",
            "Epoch 6/10\n",
            "37/37 [==============================] - 0s 5ms/step - loss: 0.6110 - accuracy: 0.9233 - val_loss: 0.7421 - val_accuracy: 0.9116\n",
            "Epoch 7/10\n",
            "37/37 [==============================] - 0s 5ms/step - loss: 0.5712 - accuracy: 0.9157 - val_loss: 0.6966 - val_accuracy: 0.8912\n",
            "Epoch 8/10\n",
            "37/37 [==============================] - 0s 5ms/step - loss: 0.4906 - accuracy: 0.9174 - val_loss: 0.6652 - val_accuracy: 0.8844\n",
            "Epoch 9/10\n",
            "37/37 [==============================] - 0s 3ms/step - loss: 0.4271 - accuracy: 0.9233 - val_loss: 0.5572 - val_accuracy: 0.9048\n",
            "Epoch 10/10\n",
            "37/37 [==============================] - 0s 3ms/step - loss: 0.3736 - accuracy: 0.9302 - val_loss: 0.6019 - val_accuracy: 0.9184\n",
            "20/20 [==============================] - 0s 2ms/step\n",
            "Accuracy on Test Set: 0.9349206349206349\n"
          ]
        }
      ]
    },
    {
      "cell_type": "code",
      "source": [
        "confusion_matrix = metrics.confusion_matrix(y_test, cnn_preds)\n",
        "print(confusion_matrix)\n",
        "print(classification_report(y_test, cnn_preds))"
      ],
      "metadata": {
        "colab": {
          "base_uri": "https://localhost:8080/"
        },
        "id": "B6djxeriycv8",
        "outputId": "ce5fb017-321d-4ec9-a37f-c4f59051eabb"
      },
      "id": "B6djxeriycv8",
      "execution_count": null,
      "outputs": [
        {
          "output_type": "stream",
          "name": "stdout",
          "text": [
            "[[  3  35]\n",
            " [  6 586]]\n",
            "              precision    recall  f1-score   support\n",
            "\n",
            "           0       0.33      0.08      0.13        38\n",
            "           1       0.94      0.99      0.97       592\n",
            "\n",
            "    accuracy                           0.93       630\n",
            "   macro avg       0.64      0.53      0.55       630\n",
            "weighted avg       0.91      0.93      0.92       630\n",
            "\n"
          ]
        }
      ]
    },
    {
      "cell_type": "code",
      "source": [],
      "metadata": {
        "id": "M6IzCJE1xdcr"
      },
      "id": "M6IzCJE1xdcr",
      "execution_count": null,
      "outputs": []
    },
    {
      "cell_type": "code",
      "execution_count": null,
      "id": "b6a86393",
      "metadata": {
        "id": "b6a86393",
        "colab": {
          "base_uri": "https://localhost:8080/"
        },
        "outputId": "ad0095bd-b08f-40e1-e767-569f2f574052"
      },
      "outputs": [
        {
          "output_type": "stream",
          "name": "stdout",
          "text": [
            "Epoch 1/10\n",
            "37/37 [==============================] - 2s 13ms/step - loss: 0.3984 - accuracy: 0.9157 - val_loss: 0.1826 - val_accuracy: 0.9286\n",
            "Epoch 2/10\n",
            "37/37 [==============================] - 0s 5ms/step - loss: 0.1754 - accuracy: 0.9395 - val_loss: 0.1692 - val_accuracy: 0.9354\n",
            "Epoch 3/10\n",
            "37/37 [==============================] - 0s 5ms/step - loss: 0.1368 - accuracy: 0.9540 - val_loss: 0.1979 - val_accuracy: 0.9116\n",
            "Epoch 4/10\n",
            "37/37 [==============================] - 0s 5ms/step - loss: 0.1495 - accuracy: 0.9446 - val_loss: 0.1791 - val_accuracy: 0.9354\n",
            "Epoch 5/10\n",
            "37/37 [==============================] - 0s 7ms/step - loss: 0.1236 - accuracy: 0.9574 - val_loss: 0.1597 - val_accuracy: 0.9456\n",
            "Epoch 6/10\n",
            "37/37 [==============================] - 0s 6ms/step - loss: 0.1381 - accuracy: 0.9429 - val_loss: 0.1632 - val_accuracy: 0.9422\n",
            "Epoch 7/10\n",
            "37/37 [==============================] - 0s 5ms/step - loss: 0.1158 - accuracy: 0.9557 - val_loss: 0.1493 - val_accuracy: 0.9456\n",
            "Epoch 8/10\n",
            "37/37 [==============================] - 0s 5ms/step - loss: 0.1154 - accuracy: 0.9557 - val_loss: 0.1501 - val_accuracy: 0.9490\n",
            "Epoch 9/10\n",
            "37/37 [==============================] - 0s 5ms/step - loss: 0.1121 - accuracy: 0.9583 - val_loss: 0.1668 - val_accuracy: 0.9320\n",
            "Epoch 10/10\n",
            "37/37 [==============================] - 0s 5ms/step - loss: 0.1066 - accuracy: 0.9600 - val_loss: 0.1832 - val_accuracy: 0.9354\n",
            "20/20 [==============================] - 0s 2ms/step\n",
            "Accuracy on Test Set: 0.9476190476190476\n"
          ]
        }
      ],
      "source": [
        "import tensorflow as tf\n",
        "from tensorflow.keras.models import Sequential\n",
        "from tensorflow.keras.layers import SimpleRNN, Dense\n",
        "from sklearn.metrics import accuracy_score\n",
        "from sklearn.model_selection import train_test_split\n",
        "\n",
        "rnn_model = Sequential()\n",
        "\n",
        "rnn_model.add(SimpleRNN(units=50, activation='relu', input_shape=(X_train.shape[1], 1)))\n",
        "\n",
        "rnn_model.add(Dense(units=50, activation='relu'))\n",
        "rnn_model.add(Dense(units=1, activation='sigmoid'))\n",
        "\n",
        "rnn_model.compile(optimizer='adam', loss='binary_crossentropy', metrics=['accuracy'])\n",
        "\n",
        "rnn_model.fit(X_train, y_train.astype('float32'), epochs=10, batch_size=32, validation_split=0.2)\n",
        "\n",
        "rnn_preds = rnn_model.predict(X_test)\n",
        "rnn_preds = (rnn_preds > 0.5).astype(int)\n",
        "\n",
        "\n",
        "rnn_acc = accuracy_score(y_test, rnn_preds)\n",
        "print(\"Accuracy on Test Set:\", rnn_acc)\n"
      ]
    },
    {
      "cell_type": "code",
      "source": [
        "confusion_matrix = metrics.confusion_matrix(y_test, rnn_preds)\n",
        "print(confusion_matrix)\n",
        "print(classification_report(y_test, rnn_preds))"
      ],
      "metadata": {
        "colab": {
          "base_uri": "https://localhost:8080/"
        },
        "id": "OsTDu5zlCERR",
        "outputId": "51da8b9f-26ce-4be7-8fc0-3120791e95df"
      },
      "id": "OsTDu5zlCERR",
      "execution_count": null,
      "outputs": [
        {
          "output_type": "stream",
          "name": "stdout",
          "text": [
            "[[ 11  27]\n",
            " [  6 586]]\n",
            "              precision    recall  f1-score   support\n",
            "\n",
            "           0       0.65      0.29      0.40        38\n",
            "           1       0.96      0.99      0.97       592\n",
            "\n",
            "    accuracy                           0.95       630\n",
            "   macro avg       0.80      0.64      0.69       630\n",
            "weighted avg       0.94      0.95      0.94       630\n",
            "\n"
          ]
        }
      ]
    },
    {
      "cell_type": "code",
      "source": [
        "# LSTM\n",
        "\n",
        "import tensorflow as tf\n",
        "from tensorflow.keras.models import Sequential\n",
        "from tensorflow.keras.layers import LSTM, Dense\n",
        "from sklearn.metrics import accuracy_score\n",
        "from sklearn.model_selection import train_test_split\n",
        "\n",
        "lstm_model = Sequential()\n",
        "\n",
        "lstm_model.add(LSTM(units=50, activation='relu', input_shape=(X_train.shape[1], 1)))\n",
        "\n",
        "lstm_model.add(Dense(units=50, activation='relu'))\n",
        "lstm_model.add(Dense(units=1, activation='sigmoid'))\n",
        "\n",
        "lstm_model.compile(optimizer='adam', loss='binary_crossentropy', metrics=['accuracy'])\n",
        "\n",
        "lstm_model.fit(X_train, y_train.astype('float32'), epochs=10, batch_size=32, validation_split=0.2)\n",
        "\n",
        "lstm_preds = lstm_model.predict(X_test)\n",
        "lstm_preds = (lstm_preds > 0.5).astype(int)\n",
        "\n",
        "lstm_acc = accuracy_score(y_test, lstm_preds)\n",
        "print(\"Accuracy on Test Set:\", lstm_acc)\n"
      ],
      "metadata": {
        "colab": {
          "base_uri": "https://localhost:8080/"
        },
        "id": "og53OgGwltuH",
        "outputId": "b7472c88-26a2-4bac-e3b4-17d5e00a1793"
      },
      "id": "og53OgGwltuH",
      "execution_count": null,
      "outputs": [
        {
          "output_type": "stream",
          "name": "stdout",
          "text": [
            "Epoch 1/10\n",
            "37/37 [==============================] - 2s 15ms/step - loss: 1.3869 - accuracy: 0.8612 - val_loss: 0.3962 - val_accuracy: 0.9014\n",
            "Epoch 2/10\n",
            "37/37 [==============================] - 0s 8ms/step - loss: 0.3722 - accuracy: 0.9293 - val_loss: 0.3113 - val_accuracy: 0.8776\n",
            "Epoch 3/10\n",
            "37/37 [==============================] - 0s 8ms/step - loss: 0.3305 - accuracy: 0.9310 - val_loss: 0.3422 - val_accuracy: 0.9218\n",
            "Epoch 4/10\n",
            "37/37 [==============================] - 0s 9ms/step - loss: 0.2600 - accuracy: 0.9302 - val_loss: 0.3420 - val_accuracy: 0.9286\n",
            "Epoch 5/10\n",
            "37/37 [==============================] - 0s 9ms/step - loss: 0.2463 - accuracy: 0.9344 - val_loss: 0.3166 - val_accuracy: 0.9286\n",
            "Epoch 6/10\n",
            "37/37 [==============================] - 0s 7ms/step - loss: 0.2472 - accuracy: 0.9310 - val_loss: 0.3005 - val_accuracy: 0.9218\n",
            "Epoch 7/10\n",
            "37/37 [==============================] - 0s 7ms/step - loss: 0.2425 - accuracy: 0.9319 - val_loss: 0.2240 - val_accuracy: 0.9150\n",
            "Epoch 8/10\n",
            "37/37 [==============================] - 0s 7ms/step - loss: 0.2563 - accuracy: 0.9353 - val_loss: 0.1780 - val_accuracy: 0.9286\n",
            "Epoch 9/10\n",
            "37/37 [==============================] - 0s 9ms/step - loss: 0.1966 - accuracy: 0.9421 - val_loss: 0.2083 - val_accuracy: 0.9184\n",
            "Epoch 10/10\n",
            "37/37 [==============================] - 0s 11ms/step - loss: 0.1714 - accuracy: 0.9463 - val_loss: 0.2065 - val_accuracy: 0.9252\n",
            "20/20 [==============================] - 0s 8ms/step\n",
            "Accuracy on Test Set: 0.9317460317460318\n"
          ]
        }
      ]
    },
    {
      "cell_type": "code",
      "source": [
        "confusion_matrix = metrics.confusion_matrix(y_test, lstm_preds)\n",
        "print(confusion_matrix)\n",
        "print(classification_report(y_test, lstm_preds))"
      ],
      "metadata": {
        "colab": {
          "base_uri": "https://localhost:8080/"
        },
        "id": "rYJtN6lvmWTh",
        "outputId": "02f107dd-8001-4d2b-fb2f-50a87e0b31f8"
      },
      "id": "rYJtN6lvmWTh",
      "execution_count": null,
      "outputs": [
        {
          "output_type": "stream",
          "name": "stdout",
          "text": [
            "[[  5  33]\n",
            " [ 10 582]]\n",
            "              precision    recall  f1-score   support\n",
            "\n",
            "           0       0.33      0.13      0.19        38\n",
            "           1       0.95      0.98      0.96       592\n",
            "\n",
            "    accuracy                           0.93       630\n",
            "   macro avg       0.64      0.56      0.58       630\n",
            "weighted avg       0.91      0.93      0.92       630\n",
            "\n"
          ]
        }
      ]
    },
    {
      "cell_type": "code",
      "source": [
        "new_data1.columns"
      ],
      "metadata": {
        "colab": {
          "base_uri": "https://localhost:8080/"
        },
        "id": "toGZWM499MJU",
        "outputId": "18043b82-7587-4bdc-9ed7-bedbe11fad93"
      },
      "id": "toGZWM499MJU",
      "execution_count": null,
      "outputs": [
        {
          "output_type": "execute_result",
          "data": {
            "text/plain": [
              "Index(['label:LYING_DOWN', 'label:SITTING', 'label:FIX_walking',\n",
              "       'label:FIX_running', 'label:BICYCLING', 'label:SLEEPING',\n",
              "       'label:LAB_WORK', 'label:IN_CLASS', 'label:IN_A_MEETING',\n",
              "       'label:LOC_main_workplace', 'label:OR_indoors', 'label:OR_outside',\n",
              "       'label:IN_A_CAR', 'label:ON_A_BUS', 'label:DRIVE_-_I_M_THE_DRIVER',\n",
              "       'label:DRIVE_-_I_M_A_PASSENGER', 'label:LOC_home',\n",
              "       'label:FIX_restaurant', 'label:PHONE_IN_POCKET', 'label:OR_exercise',\n",
              "       'label:COOKING', 'label:SHOPPING', 'label:STROLLING',\n",
              "       'label:DRINKING__ALCOHOL_', 'label:BATHING_-_SHOWER', 'label:CLEANING',\n",
              "       'label:DOING_LAUNDRY', 'label:WASHING_DISHES', 'label:WATCHING_TV',\n",
              "       'label:SURFING_THE_INTERNET', 'label:AT_A_PARTY', 'label:AT_A_BAR',\n",
              "       'label:LOC_beach', 'label:SINGING', 'label:TALKING',\n",
              "       'label:COMPUTER_WORK', 'label:EATING', 'label:TOILET', 'label:GROOMING',\n",
              "       'label:DRESSING', 'label:AT_THE_GYM', 'label:STAIRS_-_GOING_UP',\n",
              "       'label:STAIRS_-_GOING_DOWN', 'label:ELEVATOR', 'label:OR_standing',\n",
              "       'label:AT_SCHOOL', 'label:PHONE_IN_HAND', 'label:PHONE_IN_BAG',\n",
              "       'label:PHONE_ON_TABLE', 'label:WITH_CO-WORKERS', 'label:WITH_FRIENDS',\n",
              "       'label_source'],\n",
              "      dtype='object')"
            ]
          },
          "metadata": {},
          "execution_count": 32
        }
      ]
    },
    {
      "cell_type": "code",
      "source": [
        "label_data = new_data1[[\"label:COOKING\", \"label:DRIVE_-_I_M_THE_DRIVER\", \"label:BICYCLING\", \"label:COMPUTER_WORK\",\n",
        "                        \"label:EATING\", \"label:WASHING_DISHES\", \"label:BATHING_-_SHOWER\"]]\n",
        "final_data = pd.concat([watch_data, label_data], axis=1)\n",
        "final_data = final_data.fillna(0)"
      ],
      "metadata": {
        "id": "0QL1fUoDAWru"
      },
      "id": "0QL1fUoDAWru",
      "execution_count": null,
      "outputs": []
    },
    {
      "cell_type": "code",
      "source": [
        "final_data['label'] = final_data.apply(\n",
        "    lambda row: 0 if row[\"label:COOKING\"] == 1 else\n",
        "                1 if row[\"label:DRIVE_-_I_M_THE_DRIVER\"] == 1 else\n",
        "                2 if row[\"label:BICYCLING\"] == 1 else\n",
        "                3 if row[\"label:COMPUTER_WORK\"] == 1 else\n",
        "                4 if row[\"label:EATING\"] == 1 else\n",
        "                5 if row[\"label:WASHING_DISHES\"] == 1 else\n",
        "                6 if row[\"label:BATHING_-_SHOWER\"] == 1 else 7,\n",
        "    axis=1\n",
        ")\n"
      ],
      "metadata": {
        "id": "mwiVWeGKCAPV"
      },
      "id": "mwiVWeGKCAPV",
      "execution_count": null,
      "outputs": []
    },
    {
      "cell_type": "code",
      "source": [
        "stationary_counts = final_data['label'].value_counts()\n",
        "\n",
        "plt.bar(stationary_counts.index, stationary_counts.values)\n",
        "\n",
        "plt.xlabel('Stationary')\n",
        "plt.ylabel('Count')\n",
        "plt.title('Distribution of Label Column')\n",
        "\n",
        "plt.show()"
      ],
      "metadata": {
        "colab": {
          "base_uri": "https://localhost:8080/",
          "height": 472
        },
        "id": "pl11WIueIoSO",
        "outputId": "4e585636-3383-4a36-d735-f66c8aeb0cf9"
      },
      "id": "pl11WIueIoSO",
      "execution_count": null,
      "outputs": [
        {
          "output_type": "display_data",
          "data": {
            "text/plain": [
              "<Figure size 640x480 with 1 Axes>"
            ],
            "image/png": "[encoded data removed]"
          },
          "metadata": {}
        }
      ]
    },
    {
      "cell_type": "code",
      "source": [
        "final_data = final_data.drop([\"label:COOKING\", \"label:DRIVE_-_I_M_THE_DRIVER\", \"label:BICYCLING\", \"label:COMPUTER_WORK\",\n",
        "                        \"label:EATING\", \"label:WASHING_DISHES\", \"label:BATHING_-_SHOWER\"], axis = 1)"
      ],
      "metadata": {
        "id": "x59X66bWJxZr"
      },
      "id": "x59X66bWJxZr",
      "execution_count": null,
      "outputs": []
    },
    {
      "cell_type": "code",
      "source": [
        "final_data = final_data[final_data['label'] != 7]"
      ],
      "metadata": {
        "id": "Q-7thdr_J9Lw"
      },
      "id": "Q-7thdr_J9Lw",
      "execution_count": null,
      "outputs": []
    },
    {
      "cell_type": "code",
      "source": [
        "X = final_data.drop(\"label\", axis = 1)\n",
        "y = final_data[\"label\"]"
      ],
      "metadata": {
        "id": "-4hQ_NNxKLXJ"
      },
      "id": "-4hQ_NNxKLXJ",
      "execution_count": null,
      "outputs": []
    },
    {
      "cell_type": "code",
      "source": [
        "X_train, X_test, y_train, y_test = train_test_split(X, y, test_size = 0.3, stratify = y, random_state = 121)"
      ],
      "metadata": {
        "id": "aVdMRm_AKbmW"
      },
      "id": "aVdMRm_AKbmW",
      "execution_count": null,
      "outputs": []
    },
    {
      "cell_type": "code",
      "source": [
        "# Decision Tree\n",
        "param_grid = {\n",
        "    'max_depth': [6, 8, 10, 12],\n",
        "    'min_samples_split': [16, 24, 32],\n",
        "    'random_state': [121]\n",
        "}\n",
        "\n",
        "dt_clf = DecisionTreeClassifier()\n",
        "\n",
        "grid_search = GridSearchCV(estimator=dt_clf, param_grid=param_grid, scoring='accuracy', cv=3)\n",
        "grid_search.fit(X_train, y_train)\n",
        "\n",
        "best_params = grid_search.best_params_\n",
        "print(\"Best Parameters:\", best_params)\n",
        "best_dt_clf = grid_search.best_estimator_\n",
        "\n",
        "dt_preds = best_dt_clf.predict(X_test)\n",
        "\n",
        "dt_acc = accuracy_score(y_test, dt_preds)\n",
        "print(\"Accuracy on Test Set:\", dt_acc)"
      ],
      "metadata": {
        "colab": {
          "base_uri": "https://localhost:8080/"
        },
        "id": "MINmicAYK1zF",
        "outputId": "b2a4e10a-bc51-4f7e-9aa7-c1d8bd2bbe4b"
      },
      "id": "MINmicAYK1zF",
      "execution_count": null,
      "outputs": [
        {
          "output_type": "stream",
          "name": "stdout",
          "text": [
            "Best Parameters: {'max_depth': 12, 'min_samples_split': 32, 'random_state': 121}\n",
            "Accuracy on Test Set: 0.6091954022988506\n"
          ]
        }
      ]
    },
    {
      "cell_type": "code",
      "source": [
        "# Random Forest\n",
        "\n",
        "from sklearn.ensemble import RandomForestClassifier\n",
        "param_grid = {\n",
        "    'n_estimators': [50, 100, 200],\n",
        "    'max_depth': [None, 6, 8, 10],\n",
        "    'min_samples_split': [2, 5, 10],\n",
        "    'min_samples_leaf': [1, 2, 4],\n",
        "    'random_state': [121]\n",
        "}\n",
        "\n",
        "rf_clf = RandomForestClassifier()\n",
        "\n",
        "grid_search = GridSearchCV(estimator=rf_clf, param_grid=param_grid, scoring='accuracy', cv=3)\n",
        "\n",
        "grid_search.fit(X_train, y_train)\n",
        "\n",
        "best_params = grid_search.best_params_\n",
        "print(\"Best Parameters:\", best_params)\n",
        "\n",
        "best_rf_clf = grid_search.best_estimator_\n",
        "\n",
        "rf_preds = best_rf_clf.predict(X_test)\n",
        "\n",
        "rf_acc = accuracy_score(y_test, rf_preds)\n",
        "print(\"Accuracy on Test Set:\", rf_acc)"
      ],
      "metadata": {
        "colab": {
          "base_uri": "https://localhost:8080/"
        },
        "id": "4TgG4YtZLGzk",
        "outputId": "5b841007-3899-4fa6-ec1b-df204fc6f3bb"
      },
      "id": "4TgG4YtZLGzk",
      "execution_count": null,
      "outputs": [
        {
          "output_type": "stream",
          "name": "stdout",
          "text": [
            "Best Parameters: {'max_depth': 10, 'min_samples_leaf': 2, 'min_samples_split': 5, 'n_estimators': 100, 'random_state': 121}\n",
            "Accuracy on Test Set: 0.6800766283524904\n"
          ]
        }
      ]
    },
    {
      "cell_type": "code",
      "source": [
        "#SVM\n",
        "svm_clf = svm.SVC(kernel = \"rbf\", C = 10)\n",
        "svm_clf.fit(X_train, y_train)\n",
        "svm_preds = svm_clf.predict(X_test)\n",
        "svm_acc = accuracy_score(y_test, svm_preds)\n",
        "svm_acc\n"
      ],
      "metadata": {
        "colab": {
          "base_uri": "https://localhost:8080/"
        },
        "id": "pN81xaEALMY4",
        "outputId": "c1f7ffd9-91e4-4665-e050-0ee5649a64ff"
      },
      "id": "pN81xaEALMY4",
      "execution_count": null,
      "outputs": [
        {
          "output_type": "execute_result",
          "data": {
            "text/plain": [
              "0.6379310344827587"
            ]
          },
          "metadata": {},
          "execution_count": 42
        }
      ]
    },
    {
      "cell_type": "code",
      "source": [
        "# xgb\n",
        "import xgboost as xgb\n",
        "param_grid = {\n",
        "    'max_depth': [3, 5, 7],\n",
        "    'learning_rate': [0.01, 0.1, 0.2],\n",
        "    'n_estimators': [50, 100, 200],\n",
        "    'subsample': [0.8, 1.0],\n",
        "    'colsample_bytree': [0.8, 1.0],\n",
        "    'gamma': [0, 1, 2],\n",
        "}\n",
        "\n",
        "xgb_clf = xgb.XGBClassifier(objective='binary:logistic', random_state=42)\n",
        "\n",
        "grid_search = GridSearchCV(estimator=xgb_clf, param_grid=param_grid, scoring='accuracy', cv=3)\n",
        "\n",
        "grid_search.fit(X_train, y_train)\n",
        "\n",
        "best_params = grid_search.best_params_\n",
        "print(\"Best Parameters:\", best_params)\n",
        "\n",
        "best_xgb_clf = grid_search.best_estimator_\n",
        "\n",
        "best_xgb_preds = best_xgb_clf.predict(X_test)\n",
        "\n",
        "best_xgb_acc = accuracy_score(y_test, best_xgb_preds)\n",
        "print(\"Accuracy on Test Set:\", best_xgb_acc)\n"
      ],
      "metadata": {
        "colab": {
          "base_uri": "https://localhost:8080/"
        },
        "id": "8zAv4m-fLr-n",
        "outputId": "7a4b96ec-459a-4da1-ce21-f7c668a95a68"
      },
      "id": "8zAv4m-fLr-n",
      "execution_count": null,
      "outputs": [
        {
          "output_type": "stream",
          "name": "stdout",
          "text": [
            "Best Parameters: {'colsample_bytree': 0.8, 'gamma': 1, 'learning_rate': 0.01, 'max_depth': 7, 'n_estimators': 200, 'subsample': 0.8}\n",
            "Accuracy on Test Set: 0.6704980842911877\n"
          ]
        }
      ]
    },
    {
      "cell_type": "code",
      "source": [
        "# CNN\n",
        "num_classes = len(set(y_train))\n",
        "\n",
        "cnn_model = Sequential()\n",
        "\n",
        "cnn_model.add(Conv1D(filters=32, kernel_size=3, activation='relu', input_shape=(X_train.shape[1], 1)))\n",
        "cnn_model.add(GlobalMaxPooling1D())\n",
        "\n",
        "cnn_model.add(Dense(units=50, activation='relu'))\n",
        "cnn_model.add(Dense(units=num_classes, activation='softmax'))\n",
        "\n",
        "cnn_model.compile(optimizer='adam', loss='sparse_categorical_crossentropy', metrics=['accuracy'])\n",
        "\n",
        "cnn_model.fit(X_train, y_train, epochs=10, batch_size=32, validation_split=0.2)\n",
        "\n",
        "cnn_preds_probs = cnn_model.predict(X_test)\n",
        "cnn_preds = np.argmax(cnn_preds_probs, axis=1)\n",
        "\n",
        "cnn_acc = accuracy_score(y_test, cnn_preds)\n",
        "print(\"Accuracy on Test Set:\", cnn_acc)\n",
        "\n"
      ],
      "metadata": {
        "colab": {
          "base_uri": "https://localhost:8080/"
        },
        "id": "5h2oL7gGOZe0",
        "outputId": "9479816f-dffd-4fd8-aa05-b491ef02aafd"
      },
      "id": "5h2oL7gGOZe0",
      "execution_count": null,
      "outputs": [
        {
          "output_type": "stream",
          "name": "stdout",
          "text": [
            "Epoch 1/10\n",
            "31/31 [==============================] - 1s 10ms/step - loss: 17.8875 - accuracy: 0.3961 - val_loss: 11.5374 - val_accuracy: 0.4938\n",
            "Epoch 2/10\n",
            "31/31 [==============================] - 0s 3ms/step - loss: 9.2851 - accuracy: 0.4774 - val_loss: 7.8467 - val_accuracy: 0.4650\n",
            "Epoch 3/10\n",
            "31/31 [==============================] - 0s 4ms/step - loss: 6.3060 - accuracy: 0.4938 - val_loss: 5.5138 - val_accuracy: 0.5473\n",
            "Epoch 4/10\n",
            "31/31 [==============================] - 0s 3ms/step - loss: 4.9805 - accuracy: 0.5021 - val_loss: 4.9485 - val_accuracy: 0.5473\n",
            "Epoch 5/10\n",
            "31/31 [==============================] - 0s 4ms/step - loss: 4.2266 - accuracy: 0.4990 - val_loss: 3.6444 - val_accuracy: 0.5679\n",
            "Epoch 6/10\n",
            "31/31 [==============================] - 0s 3ms/step - loss: 3.5405 - accuracy: 0.5051 - val_loss: 3.3721 - val_accuracy: 0.5556\n",
            "Epoch 7/10\n",
            "31/31 [==============================] - 0s 3ms/step - loss: 3.3234 - accuracy: 0.5298 - val_loss: 2.7817 - val_accuracy: 0.5802\n",
            "Epoch 8/10\n",
            "31/31 [==============================] - 0s 3ms/step - loss: 2.9132 - accuracy: 0.5154 - val_loss: 2.9915 - val_accuracy: 0.4897\n",
            "Epoch 9/10\n",
            "31/31 [==============================] - 0s 4ms/step - loss: 2.6690 - accuracy: 0.5370 - val_loss: 2.5053 - val_accuracy: 0.6008\n",
            "Epoch 10/10\n",
            "31/31 [==============================] - 0s 4ms/step - loss: 2.5874 - accuracy: 0.5463 - val_loss: 2.4128 - val_accuracy: 0.6008\n",
            "17/17 [==============================] - 0s 2ms/step\n",
            "Accuracy on Test Set: 0.5114942528735632\n"
          ]
        }
      ]
    },
    {
      "cell_type": "code",
      "source": [
        "# RNN\n",
        "num_classes = len(set(y_train))\n",
        "\n",
        "rnn_model = Sequential()\n",
        "\n",
        "rnn_model.add(SimpleRNN(units=50, activation='relu', input_shape=(X_train.shape[1], 1)))\n",
        "\n",
        "rnn_model.add(Dense(units=50, activation='relu'))\n",
        "rnn_model.add(Dense(units=num_classes, activation='softmax'))\n",
        "\n",
        "rnn_model.compile(optimizer='adam', loss='sparse_categorical_crossentropy', metrics=['accuracy'])\n",
        "\n",
        "rnn_model.fit(X_train, y_train, epochs=10, batch_size=32, validation_split=0.2)\n",
        "\n",
        "rnn_preds_probs = rnn_model.predict(X_test)\n",
        "rnn_preds = tf.argmax(rnn_preds_probs, axis=1)\n",
        "\n",
        "rnn_acc = accuracy_score(y_test, rnn_preds)\n",
        "print(\"Accuracy on Test Set:\", rnn_acc)"
      ],
      "metadata": {
        "colab": {
          "base_uri": "https://localhost:8080/"
        },
        "id": "x-w3GfbkPjoD",
        "outputId": "f711aa02-99e9-45ca-e579-ea54a7e1e8ca"
      },
      "id": "x-w3GfbkPjoD",
      "execution_count": null,
      "outputs": [
        {
          "output_type": "stream",
          "name": "stdout",
          "text": [
            "Epoch 1/10\n",
            "31/31 [==============================] - 2s 15ms/step - loss: 5.5806 - accuracy: 0.3282 - val_loss: 2.0000 - val_accuracy: 0.4897\n",
            "Epoch 2/10\n",
            "31/31 [==============================] - 0s 6ms/step - loss: 1.7467 - accuracy: 0.4733 - val_loss: 1.6629 - val_accuracy: 0.4979\n",
            "Epoch 3/10\n",
            "31/31 [==============================] - 0s 5ms/step - loss: 1.4747 - accuracy: 0.5062 - val_loss: 1.5132 - val_accuracy: 0.5391\n",
            "Epoch 4/10\n",
            "31/31 [==============================] - 0s 5ms/step - loss: 1.3594 - accuracy: 0.5381 - val_loss: 1.5864 - val_accuracy: 0.5679\n",
            "Epoch 5/10\n",
            "31/31 [==============================] - 0s 6ms/step - loss: 1.2950 - accuracy: 0.5442 - val_loss: 1.4077 - val_accuracy: 0.5761\n",
            "Epoch 6/10\n",
            "31/31 [==============================] - 0s 6ms/step - loss: 1.2094 - accuracy: 0.5761 - val_loss: 1.3519 - val_accuracy: 0.5802\n",
            "Epoch 7/10\n",
            "31/31 [==============================] - 0s 5ms/step - loss: 1.1580 - accuracy: 0.5864 - val_loss: 1.3413 - val_accuracy: 0.5761\n",
            "Epoch 8/10\n",
            "31/31 [==============================] - 0s 5ms/step - loss: 1.1207 - accuracy: 0.5926 - val_loss: 1.2946 - val_accuracy: 0.5967\n",
            "Epoch 9/10\n",
            "31/31 [==============================] - 0s 5ms/step - loss: 1.0619 - accuracy: 0.6008 - val_loss: 1.2765 - val_accuracy: 0.5802\n",
            "Epoch 10/10\n",
            "31/31 [==============================] - 0s 5ms/step - loss: 1.0431 - accuracy: 0.6101 - val_loss: 1.2515 - val_accuracy: 0.5967\n",
            "17/17 [==============================] - 0s 3ms/step\n",
            "Accuracy on Test Set: 0.5766283524904214\n"
          ]
        }
      ]
    },
    {
      "cell_type": "code",
      "source": [
        "#LSTM\n",
        "num_classes = len(set(y_train))\n",
        "\n",
        "lstm_model = Sequential()\n",
        "\n",
        "lstm_model.add(LSTM(units=100, activation='relu', input_shape=(X_train.shape[1], 1)))\n",
        "\n",
        "lstm_model.add(Dense(units=50, activation='relu'))\n",
        "lstm_model.add(Dense(units=num_classes, activation='softmax'))\n",
        "\n",
        "lstm_model.compile(optimizer='adam', loss='sparse_categorical_crossentropy', metrics=['accuracy'])\n",
        "\n",
        "lstm_model.fit(X_train, y_train, epochs=10, batch_size=32, validation_split=0.2)\n",
        "\n",
        "lstm_preds_probs = lstm_model.predict(X_test)\n",
        "lstm_preds = tf.argmax(lstm_preds_probs, axis=1)\n",
        "\n",
        "lstm_acc = accuracy_score(y_test, lstm_preds)\n",
        "print(\"Accuracy on Test Set:\", lstm_acc)"
      ],
      "metadata": {
        "colab": {
          "base_uri": "https://localhost:8080/"
        },
        "id": "7SMGaWBKRTMo",
        "outputId": "ad0530ff-4f0b-4593-8484-efcd58966397"
      },
      "id": "7SMGaWBKRTMo",
      "execution_count": null,
      "outputs": [
        {
          "output_type": "stream",
          "name": "stdout",
          "text": [
            "Epoch 1/10\n",
            "31/31 [==============================] - 3s 30ms/step - loss: 4.0451 - accuracy: 0.3282 - val_loss: 1.8776 - val_accuracy: 0.3992\n",
            "Epoch 2/10\n",
            "31/31 [==============================] - 1s 17ms/step - loss: 1.6554 - accuracy: 0.4424 - val_loss: 1.5495 - val_accuracy: 0.4897\n",
            "Epoch 3/10\n",
            "31/31 [==============================] - 0s 15ms/step - loss: 1.2932 - accuracy: 0.5473 - val_loss: 1.4183 - val_accuracy: 0.5350\n",
            "Epoch 4/10\n",
            "31/31 [==============================] - 1s 17ms/step - loss: 1.1980 - accuracy: 0.5720 - val_loss: 1.2982 - val_accuracy: 0.5638\n",
            "Epoch 5/10\n",
            "31/31 [==============================] - 1s 17ms/step - loss: 1.0839 - accuracy: 0.6214 - val_loss: 1.2517 - val_accuracy: 0.5802\n",
            "Epoch 6/10\n",
            "31/31 [==============================] - 0s 11ms/step - loss: 1.0545 - accuracy: 0.6193 - val_loss: 1.2580 - val_accuracy: 0.5432\n",
            "Epoch 7/10\n",
            "31/31 [==============================] - 0s 12ms/step - loss: 0.9966 - accuracy: 0.6296 - val_loss: 1.1824 - val_accuracy: 0.5802\n",
            "Epoch 8/10\n",
            "31/31 [==============================] - 0s 11ms/step - loss: 0.8976 - accuracy: 0.6574 - val_loss: 1.2527 - val_accuracy: 0.5720\n",
            "Epoch 9/10\n",
            "31/31 [==============================] - 0s 10ms/step - loss: 0.8694 - accuracy: 0.6728 - val_loss: 1.1759 - val_accuracy: 0.5802\n",
            "Epoch 10/10\n",
            "31/31 [==============================] - 0s 10ms/step - loss: 0.9000 - accuracy: 0.6471 - val_loss: 1.1624 - val_accuracy: 0.6091\n",
            "17/17 [==============================] - 0s 4ms/step\n",
            "Accuracy on Test Set: 0.5862068965517241\n"
          ]
        }
      ]
    }
  ],
  "metadata": {
    "kernelspec": {
      "display_name": "Python 3 (ipykernel)",
      "language": "python",
      "name": "python3"
    },
    "language_info": {
      "codemirror_mode": {
        "name": "ipython",
        "version": 3
      },
      "file_extension": ".py",
      "mimetype": "text/x-python",
      "name": "python",
      "nbconvert_exporter": "python",
      "pygments_lexer": "ipython3",
      "version": "3.9.7"
    },
    "colab": {
      "provenance": []
    }
  },
  "nbformat": 4,
  "nbformat_minor": 5
}